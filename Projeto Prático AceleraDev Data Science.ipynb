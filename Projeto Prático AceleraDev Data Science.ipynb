{
 "cells": [
  {
   "cell_type": "code",
   "execution_count": 1,
   "metadata": {},
   "outputs": [],
   "source": [
    "import pandas as pd\n",
    "import matplotlib.pyplot as plt\n",
    "import seaborn\n",
    "import numpy as np\n",
    "from zipfile import ZipFile"
   ]
  },
  {
   "cell_type": "code",
   "execution_count": 2,
   "metadata": {},
   "outputs": [
    {
     "data": {
      "text/plain": [
       "[('estaticos_market.csv',), ('__MACOSX/._estaticos_market.csv',)]"
      ]
     },
     "execution_count": 2,
     "metadata": {},
     "output_type": "execute_result"
    }
   ],
   "source": [
    "zip_file = ZipFile('estaticos_market.csv.zip')\n",
    "dfs = {text_file.filename: pd.read_csv(zip_file.open(text_file.filename))\n",
    "       for text_file in zip_file.infolist()\n",
    "       if text_file.filename.endswith('.csv')}\n",
    "list(zip(dfs))"
   ]
  },
  {
   "cell_type": "code",
   "execution_count": 3,
   "metadata": {},
   "outputs": [],
   "source": [
    "market = pd.DataFrame(dfs['estaticos_market.csv'])"
   ]
  },
  {
   "cell_type": "code",
   "execution_count": 4,
   "metadata": {},
   "outputs": [
    {
     "data": {
      "text/html": [
       "<div>\n",
       "<style scoped>\n",
       "    .dataframe tbody tr th:only-of-type {\n",
       "        vertical-align: middle;\n",
       "    }\n",
       "\n",
       "    .dataframe tbody tr th {\n",
       "        vertical-align: top;\n",
       "    }\n",
       "\n",
       "    .dataframe thead th {\n",
       "        text-align: right;\n",
       "    }\n",
       "</style>\n",
       "<table border=\"1\" class=\"dataframe\">\n",
       "  <thead>\n",
       "    <tr style=\"text-align: right;\">\n",
       "      <th></th>\n",
       "      <th>Unnamed: 0</th>\n",
       "      <th>Unnamed: 1</th>\n",
       "    </tr>\n",
       "  </thead>\n",
       "  <tbody>\n",
       "    <tr>\n",
       "      <th>0</th>\n",
       "      <td>NaN</td>\n",
       "      <td>NaN</td>\n",
       "    </tr>\n",
       "  </tbody>\n",
       "</table>\n",
       "</div>"
      ],
      "text/plain": [
       "   Unnamed: 0  Unnamed: 1\n",
       "0         NaN         NaN"
      ]
     },
     "execution_count": 4,
     "metadata": {},
     "output_type": "execute_result"
    }
   ],
   "source": [
    "## Essa parte do arquivo é nula\n",
    "dfs['__MACOSX/._estaticos_market.csv']"
   ]
  },
  {
   "cell_type": "code",
   "execution_count": 5,
   "metadata": {},
   "outputs": [
    {
     "data": {
      "text/html": [
       "<div>\n",
       "<style scoped>\n",
       "    .dataframe tbody tr th:only-of-type {\n",
       "        vertical-align: middle;\n",
       "    }\n",
       "\n",
       "    .dataframe tbody tr th {\n",
       "        vertical-align: top;\n",
       "    }\n",
       "\n",
       "    .dataframe thead th {\n",
       "        text-align: right;\n",
       "    }\n",
       "</style>\n",
       "<table border=\"1\" class=\"dataframe\">\n",
       "  <thead>\n",
       "    <tr style=\"text-align: right;\">\n",
       "      <th></th>\n",
       "      <th>Unnamed: 0</th>\n",
       "      <th>id</th>\n",
       "      <th>fl_matriz</th>\n",
       "      <th>de_natureza_juridica</th>\n",
       "      <th>sg_uf</th>\n",
       "      <th>natureza_juridica_macro</th>\n",
       "      <th>de_ramo</th>\n",
       "      <th>setor</th>\n",
       "      <th>idade_empresa_anos</th>\n",
       "      <th>idade_emp_cat</th>\n",
       "      <th>...</th>\n",
       "      <th>media_meses_servicos</th>\n",
       "      <th>max_meses_servicos</th>\n",
       "      <th>min_meses_servicos</th>\n",
       "      <th>qt_funcionarios</th>\n",
       "      <th>qt_funcionarios_12meses</th>\n",
       "      <th>qt_funcionarios_24meses</th>\n",
       "      <th>tx_crescimento_12meses</th>\n",
       "      <th>tx_crescimento_24meses</th>\n",
       "      <th>tx_rotatividade</th>\n",
       "      <th>qt_filiais</th>\n",
       "    </tr>\n",
       "  </thead>\n",
       "  <tbody>\n",
       "    <tr>\n",
       "      <th>0</th>\n",
       "      <td>0</td>\n",
       "      <td>a6984c3ae395090e3bee8ad63c3758b110de096d5d8195...</td>\n",
       "      <td>True</td>\n",
       "      <td>SOCIEDADE EMPRESARIA LIMITADA</td>\n",
       "      <td>RN</td>\n",
       "      <td>ENTIDADES EMPRESARIAIS</td>\n",
       "      <td>INDUSTRIA DA CONSTRUCAO</td>\n",
       "      <td>CONSTRUÇÃO CIVIL</td>\n",
       "      <td>14.457534</td>\n",
       "      <td>10 a 15</td>\n",
       "      <td>...</td>\n",
       "      <td>43.738462</td>\n",
       "      <td>93.266667</td>\n",
       "      <td>19.166667</td>\n",
       "      <td>26.0</td>\n",
       "      <td>26.0</td>\n",
       "      <td>27.0</td>\n",
       "      <td>0.0</td>\n",
       "      <td>-3.703704</td>\n",
       "      <td>0.0</td>\n",
       "      <td>0</td>\n",
       "    </tr>\n",
       "    <tr>\n",
       "      <th>1</th>\n",
       "      <td>1</td>\n",
       "      <td>6178f41ade1365e44bc2c46654c2c8c0eaae27dcb476c4...</td>\n",
       "      <td>True</td>\n",
       "      <td>EMPRESARIO INDIVIDUAL</td>\n",
       "      <td>PI</td>\n",
       "      <td>OUTROS</td>\n",
       "      <td>SERVICOS DE ALOJAMENTO/ALIMENTACAO</td>\n",
       "      <td>SERVIÇO</td>\n",
       "      <td>1.463014</td>\n",
       "      <td>1 a 5</td>\n",
       "      <td>...</td>\n",
       "      <td>NaN</td>\n",
       "      <td>NaN</td>\n",
       "      <td>NaN</td>\n",
       "      <td>NaN</td>\n",
       "      <td>NaN</td>\n",
       "      <td>NaN</td>\n",
       "      <td>NaN</td>\n",
       "      <td>NaN</td>\n",
       "      <td>NaN</td>\n",
       "      <td>0</td>\n",
       "    </tr>\n",
       "    <tr>\n",
       "      <th>2</th>\n",
       "      <td>2</td>\n",
       "      <td>4a7e5069a397f12fdd7fd57111d6dc5d3ba558958efc02...</td>\n",
       "      <td>True</td>\n",
       "      <td>EMPRESARIO INDIVIDUAL</td>\n",
       "      <td>AM</td>\n",
       "      <td>OUTROS</td>\n",
       "      <td>TRANSPORTE, ARMAZENAGEM E CORREIO</td>\n",
       "      <td>SERVIÇO</td>\n",
       "      <td>7.093151</td>\n",
       "      <td>5 a 10</td>\n",
       "      <td>...</td>\n",
       "      <td>NaN</td>\n",
       "      <td>NaN</td>\n",
       "      <td>NaN</td>\n",
       "      <td>NaN</td>\n",
       "      <td>NaN</td>\n",
       "      <td>NaN</td>\n",
       "      <td>NaN</td>\n",
       "      <td>NaN</td>\n",
       "      <td>NaN</td>\n",
       "      <td>0</td>\n",
       "    </tr>\n",
       "    <tr>\n",
       "      <th>3</th>\n",
       "      <td>3</td>\n",
       "      <td>3348900fe63216a439d2e5238c79ddd46ede454df7b9d8...</td>\n",
       "      <td>True</td>\n",
       "      <td>EMPRESARIO INDIVIDUAL</td>\n",
       "      <td>AM</td>\n",
       "      <td>OUTROS</td>\n",
       "      <td>SERVICOS DIVERSOS</td>\n",
       "      <td>SERVIÇO</td>\n",
       "      <td>6.512329</td>\n",
       "      <td>5 a 10</td>\n",
       "      <td>...</td>\n",
       "      <td>NaN</td>\n",
       "      <td>NaN</td>\n",
       "      <td>NaN</td>\n",
       "      <td>NaN</td>\n",
       "      <td>NaN</td>\n",
       "      <td>NaN</td>\n",
       "      <td>NaN</td>\n",
       "      <td>NaN</td>\n",
       "      <td>NaN</td>\n",
       "      <td>0</td>\n",
       "    </tr>\n",
       "    <tr>\n",
       "      <th>4</th>\n",
       "      <td>4</td>\n",
       "      <td>1f9bcabc9d3173c1fe769899e4fac14b053037b953a1e4...</td>\n",
       "      <td>True</td>\n",
       "      <td>EMPRESARIO INDIVIDUAL</td>\n",
       "      <td>RN</td>\n",
       "      <td>OUTROS</td>\n",
       "      <td>SERVICOS PROFISSIONAIS, TECNICOS E CIENTIFICOS</td>\n",
       "      <td>SERVIÇO</td>\n",
       "      <td>3.200000</td>\n",
       "      <td>1 a 5</td>\n",
       "      <td>...</td>\n",
       "      <td>NaN</td>\n",
       "      <td>NaN</td>\n",
       "      <td>NaN</td>\n",
       "      <td>NaN</td>\n",
       "      <td>NaN</td>\n",
       "      <td>NaN</td>\n",
       "      <td>NaN</td>\n",
       "      <td>NaN</td>\n",
       "      <td>NaN</td>\n",
       "      <td>0</td>\n",
       "    </tr>\n",
       "  </tbody>\n",
       "</table>\n",
       "<p>5 rows × 182 columns</p>\n",
       "</div>"
      ],
      "text/plain": [
       "   Unnamed: 0                                                 id  fl_matriz  \\\n",
       "0           0  a6984c3ae395090e3bee8ad63c3758b110de096d5d8195...       True   \n",
       "1           1  6178f41ade1365e44bc2c46654c2c8c0eaae27dcb476c4...       True   \n",
       "2           2  4a7e5069a397f12fdd7fd57111d6dc5d3ba558958efc02...       True   \n",
       "3           3  3348900fe63216a439d2e5238c79ddd46ede454df7b9d8...       True   \n",
       "4           4  1f9bcabc9d3173c1fe769899e4fac14b053037b953a1e4...       True   \n",
       "\n",
       "            de_natureza_juridica sg_uf natureza_juridica_macro  \\\n",
       "0  SOCIEDADE EMPRESARIA LIMITADA    RN  ENTIDADES EMPRESARIAIS   \n",
       "1          EMPRESARIO INDIVIDUAL    PI                  OUTROS   \n",
       "2          EMPRESARIO INDIVIDUAL    AM                  OUTROS   \n",
       "3          EMPRESARIO INDIVIDUAL    AM                  OUTROS   \n",
       "4          EMPRESARIO INDIVIDUAL    RN                  OUTROS   \n",
       "\n",
       "                                          de_ramo             setor  \\\n",
       "0                         INDUSTRIA DA CONSTRUCAO  CONSTRUÇÃO CIVIL   \n",
       "1              SERVICOS DE ALOJAMENTO/ALIMENTACAO           SERVIÇO   \n",
       "2               TRANSPORTE, ARMAZENAGEM E CORREIO           SERVIÇO   \n",
       "3                               SERVICOS DIVERSOS           SERVIÇO   \n",
       "4  SERVICOS PROFISSIONAIS, TECNICOS E CIENTIFICOS           SERVIÇO   \n",
       "\n",
       "   idade_empresa_anos idade_emp_cat  ...  media_meses_servicos  \\\n",
       "0           14.457534       10 a 15  ...             43.738462   \n",
       "1            1.463014         1 a 5  ...                   NaN   \n",
       "2            7.093151        5 a 10  ...                   NaN   \n",
       "3            6.512329        5 a 10  ...                   NaN   \n",
       "4            3.200000         1 a 5  ...                   NaN   \n",
       "\n",
       "   max_meses_servicos  min_meses_servicos  qt_funcionarios  \\\n",
       "0           93.266667           19.166667             26.0   \n",
       "1                 NaN                 NaN              NaN   \n",
       "2                 NaN                 NaN              NaN   \n",
       "3                 NaN                 NaN              NaN   \n",
       "4                 NaN                 NaN              NaN   \n",
       "\n",
       "   qt_funcionarios_12meses qt_funcionarios_24meses  tx_crescimento_12meses  \\\n",
       "0                     26.0                    27.0                     0.0   \n",
       "1                      NaN                     NaN                     NaN   \n",
       "2                      NaN                     NaN                     NaN   \n",
       "3                      NaN                     NaN                     NaN   \n",
       "4                      NaN                     NaN                     NaN   \n",
       "\n",
       "   tx_crescimento_24meses  tx_rotatividade qt_filiais  \n",
       "0               -3.703704              0.0          0  \n",
       "1                     NaN              NaN          0  \n",
       "2                     NaN              NaN          0  \n",
       "3                     NaN              NaN          0  \n",
       "4                     NaN              NaN          0  \n",
       "\n",
       "[5 rows x 182 columns]"
      ]
     },
     "execution_count": 5,
     "metadata": {},
     "output_type": "execute_result"
    }
   ],
   "source": [
    "market.head()"
   ]
  },
  {
   "cell_type": "code",
   "execution_count": 6,
   "metadata": {},
   "outputs": [],
   "source": [
    "market.drop('Unnamed: 0', axis=1, inplace=True)"
   ]
  },
  {
   "cell_type": "code",
   "execution_count": 7,
   "metadata": {},
   "outputs": [
    {
     "name": "stdout",
     "output_type": "stream",
     "text": [
      "<class 'pandas.core.frame.DataFrame'>\n",
      "RangeIndex: 462298 entries, 0 to 462297\n",
      "Columns: 181 entries, id to qt_filiais\n",
      "dtypes: bool(9), float64(144), int64(1), object(27)\n",
      "memory usage: 610.6+ MB\n"
     ]
    }
   ],
   "source": [
    "market.info()"
   ]
  },
  {
   "cell_type": "code",
   "execution_count": 8,
   "metadata": {},
   "outputs": [],
   "source": [
    "port1 = pd.read_csv('estaticos_portfolio1.csv', sep = ',', index_col=0)"
   ]
  },
  {
   "cell_type": "code",
   "execution_count": 9,
   "metadata": {},
   "outputs": [
    {
     "data": {
      "text/html": [
       "<div>\n",
       "<style scoped>\n",
       "    .dataframe tbody tr th:only-of-type {\n",
       "        vertical-align: middle;\n",
       "    }\n",
       "\n",
       "    .dataframe tbody tr th {\n",
       "        vertical-align: top;\n",
       "    }\n",
       "\n",
       "    .dataframe thead th {\n",
       "        text-align: right;\n",
       "    }\n",
       "</style>\n",
       "<table border=\"1\" class=\"dataframe\">\n",
       "  <thead>\n",
       "    <tr style=\"text-align: right;\">\n",
       "      <th></th>\n",
       "      <th>id</th>\n",
       "      <th>fl_matriz</th>\n",
       "      <th>de_natureza_juridica</th>\n",
       "      <th>sg_uf</th>\n",
       "      <th>natureza_juridica_macro</th>\n",
       "      <th>de_ramo</th>\n",
       "      <th>setor</th>\n",
       "      <th>idade_empresa_anos</th>\n",
       "      <th>idade_emp_cat</th>\n",
       "      <th>fl_me</th>\n",
       "      <th>...</th>\n",
       "      <th>media_meses_servicos</th>\n",
       "      <th>max_meses_servicos</th>\n",
       "      <th>min_meses_servicos</th>\n",
       "      <th>qt_funcionarios</th>\n",
       "      <th>qt_funcionarios_12meses</th>\n",
       "      <th>qt_funcionarios_24meses</th>\n",
       "      <th>tx_crescimento_12meses</th>\n",
       "      <th>tx_crescimento_24meses</th>\n",
       "      <th>tx_rotatividade</th>\n",
       "      <th>qt_filiais</th>\n",
       "    </tr>\n",
       "  </thead>\n",
       "  <tbody>\n",
       "    <tr>\n",
       "      <th>0</th>\n",
       "      <td>dabe79bec87c88ae04e869bf6bd321ee5e1893cecf6625...</td>\n",
       "      <td>True</td>\n",
       "      <td>EMPRESARIO INDIVIDUAL</td>\n",
       "      <td>PI</td>\n",
       "      <td>OUTROS</td>\n",
       "      <td>COMERCIO VAREJISTA</td>\n",
       "      <td>COMERCIO</td>\n",
       "      <td>0.646575</td>\n",
       "      <td>&lt;= 1</td>\n",
       "      <td>False</td>\n",
       "      <td>...</td>\n",
       "      <td>NaN</td>\n",
       "      <td>NaN</td>\n",
       "      <td>NaN</td>\n",
       "      <td>NaN</td>\n",
       "      <td>NaN</td>\n",
       "      <td>NaN</td>\n",
       "      <td>NaN</td>\n",
       "      <td>NaN</td>\n",
       "      <td>NaN</td>\n",
       "      <td>0</td>\n",
       "    </tr>\n",
       "    <tr>\n",
       "      <th>1</th>\n",
       "      <td>32e5f4e10932153a7ba869cb0386e7e02d49d2461046b8...</td>\n",
       "      <td>False</td>\n",
       "      <td>EMPRESARIO INDIVIDUAL</td>\n",
       "      <td>MA</td>\n",
       "      <td>OUTROS</td>\n",
       "      <td>COMERCIO VAREJISTA</td>\n",
       "      <td>COMERCIO</td>\n",
       "      <td>6.586301</td>\n",
       "      <td>5 a 10</td>\n",
       "      <td>False</td>\n",
       "      <td>...</td>\n",
       "      <td>NaN</td>\n",
       "      <td>NaN</td>\n",
       "      <td>NaN</td>\n",
       "      <td>0.0</td>\n",
       "      <td>0.0</td>\n",
       "      <td>2.0</td>\n",
       "      <td>NaN</td>\n",
       "      <td>-100.0</td>\n",
       "      <td>0.0</td>\n",
       "      <td>4</td>\n",
       "    </tr>\n",
       "    <tr>\n",
       "      <th>2</th>\n",
       "      <td>a95d6f30bba445bd3d6b0c5b36f865b38ec01d17336090...</td>\n",
       "      <td>True</td>\n",
       "      <td>EMPRESARIO INDIVIDUAL</td>\n",
       "      <td>MA</td>\n",
       "      <td>OUTROS</td>\n",
       "      <td>COMERCIO VAREJISTA</td>\n",
       "      <td>COMERCIO</td>\n",
       "      <td>8.010959</td>\n",
       "      <td>5 a 10</td>\n",
       "      <td>False</td>\n",
       "      <td>...</td>\n",
       "      <td>NaN</td>\n",
       "      <td>NaN</td>\n",
       "      <td>NaN</td>\n",
       "      <td>NaN</td>\n",
       "      <td>NaN</td>\n",
       "      <td>NaN</td>\n",
       "      <td>NaN</td>\n",
       "      <td>NaN</td>\n",
       "      <td>NaN</td>\n",
       "      <td>0</td>\n",
       "    </tr>\n",
       "    <tr>\n",
       "      <th>3</th>\n",
       "      <td>6cb309685cea0b6d2988818792ec2e6fcb2bd02e0afa9e...</td>\n",
       "      <td>True</td>\n",
       "      <td>EMPRESARIO INDIVIDUAL</td>\n",
       "      <td>RN</td>\n",
       "      <td>OUTROS</td>\n",
       "      <td>COMERCIO VAREJISTA</td>\n",
       "      <td>COMERCIO</td>\n",
       "      <td>20.863014</td>\n",
       "      <td>&gt; 20</td>\n",
       "      <td>False</td>\n",
       "      <td>...</td>\n",
       "      <td>NaN</td>\n",
       "      <td>NaN</td>\n",
       "      <td>NaN</td>\n",
       "      <td>NaN</td>\n",
       "      <td>NaN</td>\n",
       "      <td>NaN</td>\n",
       "      <td>NaN</td>\n",
       "      <td>NaN</td>\n",
       "      <td>NaN</td>\n",
       "      <td>0</td>\n",
       "    </tr>\n",
       "    <tr>\n",
       "      <th>4</th>\n",
       "      <td>f72aa7fa6787b0a5a1c88885b6120850df8ee0f71adc25...</td>\n",
       "      <td>True</td>\n",
       "      <td>SOCIEDADE EMPRESARIA LIMITADA</td>\n",
       "      <td>RN</td>\n",
       "      <td>ENTIDADES EMPRESARIAIS</td>\n",
       "      <td>COMERCIO VAREJISTA</td>\n",
       "      <td>COMERCIO</td>\n",
       "      <td>18.726027</td>\n",
       "      <td>15 a 20</td>\n",
       "      <td>False</td>\n",
       "      <td>...</td>\n",
       "      <td>39.454762</td>\n",
       "      <td>91.2</td>\n",
       "      <td>19.333333</td>\n",
       "      <td>14.0</td>\n",
       "      <td>15.0</td>\n",
       "      <td>25.0</td>\n",
       "      <td>-6.666667</td>\n",
       "      <td>-44.0</td>\n",
       "      <td>0.0</td>\n",
       "      <td>3</td>\n",
       "    </tr>\n",
       "    <tr>\n",
       "      <th>...</th>\n",
       "      <td>...</td>\n",
       "      <td>...</td>\n",
       "      <td>...</td>\n",
       "      <td>...</td>\n",
       "      <td>...</td>\n",
       "      <td>...</td>\n",
       "      <td>...</td>\n",
       "      <td>...</td>\n",
       "      <td>...</td>\n",
       "      <td>...</td>\n",
       "      <td>...</td>\n",
       "      <td>...</td>\n",
       "      <td>...</td>\n",
       "      <td>...</td>\n",
       "      <td>...</td>\n",
       "      <td>...</td>\n",
       "      <td>...</td>\n",
       "      <td>...</td>\n",
       "      <td>...</td>\n",
       "      <td>...</td>\n",
       "      <td>...</td>\n",
       "    </tr>\n",
       "    <tr>\n",
       "      <th>550</th>\n",
       "      <td>4e2353206c04c6a8c097252c89f6970594f0796676bba5...</td>\n",
       "      <td>True</td>\n",
       "      <td>SOCIEDADE EMPRESARIA LIMITADA</td>\n",
       "      <td>MA</td>\n",
       "      <td>ENTIDADES EMPRESARIAIS</td>\n",
       "      <td>BENS DE CONSUMO</td>\n",
       "      <td>INDUSTRIA</td>\n",
       "      <td>27.660274</td>\n",
       "      <td>&gt; 20</td>\n",
       "      <td>False</td>\n",
       "      <td>...</td>\n",
       "      <td>NaN</td>\n",
       "      <td>NaN</td>\n",
       "      <td>NaN</td>\n",
       "      <td>NaN</td>\n",
       "      <td>NaN</td>\n",
       "      <td>NaN</td>\n",
       "      <td>NaN</td>\n",
       "      <td>NaN</td>\n",
       "      <td>NaN</td>\n",
       "      <td>0</td>\n",
       "    </tr>\n",
       "    <tr>\n",
       "      <th>551</th>\n",
       "      <td>571a7461978f95114944695065e774a38f06528d287740...</td>\n",
       "      <td>True</td>\n",
       "      <td>EMPRESARIO INDIVIDUAL</td>\n",
       "      <td>MA</td>\n",
       "      <td>OUTROS</td>\n",
       "      <td>COMERCIO VAREJISTA</td>\n",
       "      <td>COMERCIO</td>\n",
       "      <td>1.597260</td>\n",
       "      <td>1 a 5</td>\n",
       "      <td>False</td>\n",
       "      <td>...</td>\n",
       "      <td>NaN</td>\n",
       "      <td>NaN</td>\n",
       "      <td>NaN</td>\n",
       "      <td>NaN</td>\n",
       "      <td>NaN</td>\n",
       "      <td>NaN</td>\n",
       "      <td>NaN</td>\n",
       "      <td>NaN</td>\n",
       "      <td>NaN</td>\n",
       "      <td>0</td>\n",
       "    </tr>\n",
       "    <tr>\n",
       "      <th>552</th>\n",
       "      <td>4fbebb5a4ea9d2c5da87f446aff48403f0409e2e8fe381...</td>\n",
       "      <td>True</td>\n",
       "      <td>EMPRESARIO INDIVIDUAL</td>\n",
       "      <td>PI</td>\n",
       "      <td>OUTROS</td>\n",
       "      <td>COMERCIO VAREJISTA</td>\n",
       "      <td>COMERCIO</td>\n",
       "      <td>31.868493</td>\n",
       "      <td>&gt; 20</td>\n",
       "      <td>False</td>\n",
       "      <td>...</td>\n",
       "      <td>NaN</td>\n",
       "      <td>NaN</td>\n",
       "      <td>NaN</td>\n",
       "      <td>NaN</td>\n",
       "      <td>NaN</td>\n",
       "      <td>NaN</td>\n",
       "      <td>NaN</td>\n",
       "      <td>NaN</td>\n",
       "      <td>NaN</td>\n",
       "      <td>0</td>\n",
       "    </tr>\n",
       "    <tr>\n",
       "      <th>553</th>\n",
       "      <td>8bbff0a749bceb9749c5edd90373270ff9109f069ef27c...</td>\n",
       "      <td>True</td>\n",
       "      <td>EMPRESARIO INDIVIDUAL</td>\n",
       "      <td>MA</td>\n",
       "      <td>OUTROS</td>\n",
       "      <td>COMERCIO VAREJISTA</td>\n",
       "      <td>COMERCIO</td>\n",
       "      <td>0.969863</td>\n",
       "      <td>&lt;= 1</td>\n",
       "      <td>False</td>\n",
       "      <td>...</td>\n",
       "      <td>NaN</td>\n",
       "      <td>NaN</td>\n",
       "      <td>NaN</td>\n",
       "      <td>NaN</td>\n",
       "      <td>NaN</td>\n",
       "      <td>NaN</td>\n",
       "      <td>NaN</td>\n",
       "      <td>NaN</td>\n",
       "      <td>NaN</td>\n",
       "      <td>0</td>\n",
       "    </tr>\n",
       "    <tr>\n",
       "      <th>554</th>\n",
       "      <td>970485e6b8abe52d8fb4e0bf060fb6f0f4f8576cb7583d...</td>\n",
       "      <td>True</td>\n",
       "      <td>EMPRESARIO INDIVIDUAL</td>\n",
       "      <td>PI</td>\n",
       "      <td>OUTROS</td>\n",
       "      <td>COMERCIO VAREJISTA</td>\n",
       "      <td>COMERCIO</td>\n",
       "      <td>3.994521</td>\n",
       "      <td>1 a 5</td>\n",
       "      <td>False</td>\n",
       "      <td>...</td>\n",
       "      <td>NaN</td>\n",
       "      <td>NaN</td>\n",
       "      <td>NaN</td>\n",
       "      <td>NaN</td>\n",
       "      <td>NaN</td>\n",
       "      <td>NaN</td>\n",
       "      <td>NaN</td>\n",
       "      <td>NaN</td>\n",
       "      <td>NaN</td>\n",
       "      <td>0</td>\n",
       "    </tr>\n",
       "  </tbody>\n",
       "</table>\n",
       "<p>555 rows × 181 columns</p>\n",
       "</div>"
      ],
      "text/plain": [
       "                                                    id  fl_matriz  \\\n",
       "0    dabe79bec87c88ae04e869bf6bd321ee5e1893cecf6625...       True   \n",
       "1    32e5f4e10932153a7ba869cb0386e7e02d49d2461046b8...      False   \n",
       "2    a95d6f30bba445bd3d6b0c5b36f865b38ec01d17336090...       True   \n",
       "3    6cb309685cea0b6d2988818792ec2e6fcb2bd02e0afa9e...       True   \n",
       "4    f72aa7fa6787b0a5a1c88885b6120850df8ee0f71adc25...       True   \n",
       "..                                                 ...        ...   \n",
       "550  4e2353206c04c6a8c097252c89f6970594f0796676bba5...       True   \n",
       "551  571a7461978f95114944695065e774a38f06528d287740...       True   \n",
       "552  4fbebb5a4ea9d2c5da87f446aff48403f0409e2e8fe381...       True   \n",
       "553  8bbff0a749bceb9749c5edd90373270ff9109f069ef27c...       True   \n",
       "554  970485e6b8abe52d8fb4e0bf060fb6f0f4f8576cb7583d...       True   \n",
       "\n",
       "              de_natureza_juridica sg_uf natureza_juridica_macro  \\\n",
       "0            EMPRESARIO INDIVIDUAL    PI                  OUTROS   \n",
       "1            EMPRESARIO INDIVIDUAL    MA                  OUTROS   \n",
       "2            EMPRESARIO INDIVIDUAL    MA                  OUTROS   \n",
       "3            EMPRESARIO INDIVIDUAL    RN                  OUTROS   \n",
       "4    SOCIEDADE EMPRESARIA LIMITADA    RN  ENTIDADES EMPRESARIAIS   \n",
       "..                             ...   ...                     ...   \n",
       "550  SOCIEDADE EMPRESARIA LIMITADA    MA  ENTIDADES EMPRESARIAIS   \n",
       "551          EMPRESARIO INDIVIDUAL    MA                  OUTROS   \n",
       "552          EMPRESARIO INDIVIDUAL    PI                  OUTROS   \n",
       "553          EMPRESARIO INDIVIDUAL    MA                  OUTROS   \n",
       "554          EMPRESARIO INDIVIDUAL    PI                  OUTROS   \n",
       "\n",
       "                de_ramo      setor  idade_empresa_anos idade_emp_cat  fl_me  \\\n",
       "0    COMERCIO VAREJISTA   COMERCIO            0.646575          <= 1  False   \n",
       "1    COMERCIO VAREJISTA   COMERCIO            6.586301        5 a 10  False   \n",
       "2    COMERCIO VAREJISTA   COMERCIO            8.010959        5 a 10  False   \n",
       "3    COMERCIO VAREJISTA   COMERCIO           20.863014          > 20  False   \n",
       "4    COMERCIO VAREJISTA   COMERCIO           18.726027       15 a 20  False   \n",
       "..                  ...        ...                 ...           ...    ...   \n",
       "550     BENS DE CONSUMO  INDUSTRIA           27.660274          > 20  False   \n",
       "551  COMERCIO VAREJISTA   COMERCIO            1.597260         1 a 5  False   \n",
       "552  COMERCIO VAREJISTA   COMERCIO           31.868493          > 20  False   \n",
       "553  COMERCIO VAREJISTA   COMERCIO            0.969863          <= 1  False   \n",
       "554  COMERCIO VAREJISTA   COMERCIO            3.994521         1 a 5  False   \n",
       "\n",
       "     ...  media_meses_servicos  max_meses_servicos  min_meses_servicos  \\\n",
       "0    ...                   NaN                 NaN                 NaN   \n",
       "1    ...                   NaN                 NaN                 NaN   \n",
       "2    ...                   NaN                 NaN                 NaN   \n",
       "3    ...                   NaN                 NaN                 NaN   \n",
       "4    ...             39.454762                91.2           19.333333   \n",
       "..   ...                   ...                 ...                 ...   \n",
       "550  ...                   NaN                 NaN                 NaN   \n",
       "551  ...                   NaN                 NaN                 NaN   \n",
       "552  ...                   NaN                 NaN                 NaN   \n",
       "553  ...                   NaN                 NaN                 NaN   \n",
       "554  ...                   NaN                 NaN                 NaN   \n",
       "\n",
       "     qt_funcionarios qt_funcionarios_12meses  qt_funcionarios_24meses  \\\n",
       "0                NaN                     NaN                      NaN   \n",
       "1                0.0                     0.0                      2.0   \n",
       "2                NaN                     NaN                      NaN   \n",
       "3                NaN                     NaN                      NaN   \n",
       "4               14.0                    15.0                     25.0   \n",
       "..               ...                     ...                      ...   \n",
       "550              NaN                     NaN                      NaN   \n",
       "551              NaN                     NaN                      NaN   \n",
       "552              NaN                     NaN                      NaN   \n",
       "553              NaN                     NaN                      NaN   \n",
       "554              NaN                     NaN                      NaN   \n",
       "\n",
       "     tx_crescimento_12meses  tx_crescimento_24meses tx_rotatividade qt_filiais  \n",
       "0                       NaN                     NaN             NaN          0  \n",
       "1                       NaN                  -100.0             0.0          4  \n",
       "2                       NaN                     NaN             NaN          0  \n",
       "3                       NaN                     NaN             NaN          0  \n",
       "4                 -6.666667                   -44.0             0.0          3  \n",
       "..                      ...                     ...             ...        ...  \n",
       "550                     NaN                     NaN             NaN          0  \n",
       "551                     NaN                     NaN             NaN          0  \n",
       "552                     NaN                     NaN             NaN          0  \n",
       "553                     NaN                     NaN             NaN          0  \n",
       "554                     NaN                     NaN             NaN          0  \n",
       "\n",
       "[555 rows x 181 columns]"
      ]
     },
     "execution_count": 9,
     "metadata": {},
     "output_type": "execute_result"
    }
   ],
   "source": [
    "port1"
   ]
  },
  {
   "cell_type": "code",
   "execution_count": 10,
   "metadata": {},
   "outputs": [],
   "source": [
    "port2 = pd.read_csv('estaticos_portfolio2.csv', index_col=0)"
   ]
  },
  {
   "cell_type": "code",
   "execution_count": 11,
   "metadata": {},
   "outputs": [
    {
     "data": {
      "text/html": [
       "<div>\n",
       "<style scoped>\n",
       "    .dataframe tbody tr th:only-of-type {\n",
       "        vertical-align: middle;\n",
       "    }\n",
       "\n",
       "    .dataframe tbody tr th {\n",
       "        vertical-align: top;\n",
       "    }\n",
       "\n",
       "    .dataframe thead th {\n",
       "        text-align: right;\n",
       "    }\n",
       "</style>\n",
       "<table border=\"1\" class=\"dataframe\">\n",
       "  <thead>\n",
       "    <tr style=\"text-align: right;\">\n",
       "      <th></th>\n",
       "      <th>id</th>\n",
       "    </tr>\n",
       "  </thead>\n",
       "  <tbody>\n",
       "    <tr>\n",
       "      <th>0</th>\n",
       "      <td>09e95c1a84049001d086470a8f320a19b076f955a89122...</td>\n",
       "    </tr>\n",
       "    <tr>\n",
       "      <th>1</th>\n",
       "      <td>dc9d155f5bcd3172031e2ec9431786e8871ff4b0ff4728...</td>\n",
       "    </tr>\n",
       "    <tr>\n",
       "      <th>2</th>\n",
       "      <td>16843c9ffb920170477118933798510d8d5f00f5c56c12...</td>\n",
       "    </tr>\n",
       "    <tr>\n",
       "      <th>3</th>\n",
       "      <td>ff045934d90aab184dd15e66daf3b3c97193bda5449298...</td>\n",
       "    </tr>\n",
       "    <tr>\n",
       "      <th>4</th>\n",
       "      <td>a0ce528caab2c62497a548d0ebd9e935143ef81ed7dbf0...</td>\n",
       "    </tr>\n",
       "    <tr>\n",
       "      <th>...</th>\n",
       "      <td>...</td>\n",
       "    </tr>\n",
       "    <tr>\n",
       "      <th>561</th>\n",
       "      <td>251f454db948590c50df496ea83f76e2227e24a32c2814...</td>\n",
       "    </tr>\n",
       "    <tr>\n",
       "      <th>562</th>\n",
       "      <td>fab2fcabc509768ba2943a21e674fb5af79cb349873048...</td>\n",
       "    </tr>\n",
       "    <tr>\n",
       "      <th>563</th>\n",
       "      <td>564fde999c34d33a262dad0e1596029b2b5f92e4f0aed6...</td>\n",
       "    </tr>\n",
       "    <tr>\n",
       "      <th>564</th>\n",
       "      <td>31438f752b4a846638c0acd98c3078d7e1ee83204e0388...</td>\n",
       "    </tr>\n",
       "    <tr>\n",
       "      <th>565</th>\n",
       "      <td>8a226339b331b5aec24877a69edc40070b9dd7e71b2194...</td>\n",
       "    </tr>\n",
       "  </tbody>\n",
       "</table>\n",
       "<p>566 rows × 1 columns</p>\n",
       "</div>"
      ],
      "text/plain": [
       "                                                    id\n",
       "0    09e95c1a84049001d086470a8f320a19b076f955a89122...\n",
       "1    dc9d155f5bcd3172031e2ec9431786e8871ff4b0ff4728...\n",
       "2    16843c9ffb920170477118933798510d8d5f00f5c56c12...\n",
       "3    ff045934d90aab184dd15e66daf3b3c97193bda5449298...\n",
       "4    a0ce528caab2c62497a548d0ebd9e935143ef81ed7dbf0...\n",
       "..                                                 ...\n",
       "561  251f454db948590c50df496ea83f76e2227e24a32c2814...\n",
       "562  fab2fcabc509768ba2943a21e674fb5af79cb349873048...\n",
       "563  564fde999c34d33a262dad0e1596029b2b5f92e4f0aed6...\n",
       "564  31438f752b4a846638c0acd98c3078d7e1ee83204e0388...\n",
       "565  8a226339b331b5aec24877a69edc40070b9dd7e71b2194...\n",
       "\n",
       "[566 rows x 1 columns]"
      ]
     },
     "execution_count": 11,
     "metadata": {},
     "output_type": "execute_result"
    }
   ],
   "source": [
    "port2"
   ]
  },
  {
   "cell_type": "code",
   "execution_count": 12,
   "metadata": {},
   "outputs": [],
   "source": [
    "port3 = pd.read_csv('estaticos_portfolio3.csv', sep = ',', index_col=0)"
   ]
  },
  {
   "cell_type": "code",
   "execution_count": 13,
   "metadata": {},
   "outputs": [
    {
     "data": {
      "text/html": [
       "<div>\n",
       "<style scoped>\n",
       "    .dataframe tbody tr th:only-of-type {\n",
       "        vertical-align: middle;\n",
       "    }\n",
       "\n",
       "    .dataframe tbody tr th {\n",
       "        vertical-align: top;\n",
       "    }\n",
       "\n",
       "    .dataframe thead th {\n",
       "        text-align: right;\n",
       "    }\n",
       "</style>\n",
       "<table border=\"1\" class=\"dataframe\">\n",
       "  <thead>\n",
       "    <tr style=\"text-align: right;\">\n",
       "      <th></th>\n",
       "      <th>id</th>\n",
       "    </tr>\n",
       "  </thead>\n",
       "  <tbody>\n",
       "    <tr>\n",
       "      <th>0</th>\n",
       "      <td>bb61c09449a1c1f8b78955d8b7a7f73599e78358993fe2...</td>\n",
       "    </tr>\n",
       "    <tr>\n",
       "      <th>1</th>\n",
       "      <td>16843c9ffb920170477118933798510d8d5f00f5c56c12...</td>\n",
       "    </tr>\n",
       "    <tr>\n",
       "      <th>2</th>\n",
       "      <td>1b8d092daff12bed8b3c2ab93bf5df2921865a68aca185...</td>\n",
       "    </tr>\n",
       "    <tr>\n",
       "      <th>3</th>\n",
       "      <td>3aafa3a1f12f483740a52956af100223333d0e3c79bf2c...</td>\n",
       "    </tr>\n",
       "    <tr>\n",
       "      <th>4</th>\n",
       "      <td>c60431fbca90067f105570e1e8a684bcd7048205bbf6c4...</td>\n",
       "    </tr>\n",
       "    <tr>\n",
       "      <th>...</th>\n",
       "      <td>...</td>\n",
       "    </tr>\n",
       "    <tr>\n",
       "      <th>260</th>\n",
       "      <td>b6966d868fb7976f993aca02fb667c9ae8f5ebf4d2e033...</td>\n",
       "    </tr>\n",
       "    <tr>\n",
       "      <th>261</th>\n",
       "      <td>4a87a82771996c18afc68a17d139bd318d08fa3e5dcf9f...</td>\n",
       "    </tr>\n",
       "    <tr>\n",
       "      <th>262</th>\n",
       "      <td>f3b468c4066fac0d2de28bdafa87ec8b9d103a085cf7de...</td>\n",
       "    </tr>\n",
       "    <tr>\n",
       "      <th>263</th>\n",
       "      <td>98448fefe3e358578fa643b63fcdcf4a3f2dcb496863f8...</td>\n",
       "    </tr>\n",
       "    <tr>\n",
       "      <th>264</th>\n",
       "      <td>251f454db948590c50df496ea83f76e2227e24a32c2814...</td>\n",
       "    </tr>\n",
       "  </tbody>\n",
       "</table>\n",
       "<p>265 rows × 1 columns</p>\n",
       "</div>"
      ],
      "text/plain": [
       "                                                    id\n",
       "0    bb61c09449a1c1f8b78955d8b7a7f73599e78358993fe2...\n",
       "1    16843c9ffb920170477118933798510d8d5f00f5c56c12...\n",
       "2    1b8d092daff12bed8b3c2ab93bf5df2921865a68aca185...\n",
       "3    3aafa3a1f12f483740a52956af100223333d0e3c79bf2c...\n",
       "4    c60431fbca90067f105570e1e8a684bcd7048205bbf6c4...\n",
       "..                                                 ...\n",
       "260  b6966d868fb7976f993aca02fb667c9ae8f5ebf4d2e033...\n",
       "261  4a87a82771996c18afc68a17d139bd318d08fa3e5dcf9f...\n",
       "262  f3b468c4066fac0d2de28bdafa87ec8b9d103a085cf7de...\n",
       "263  98448fefe3e358578fa643b63fcdcf4a3f2dcb496863f8...\n",
       "264  251f454db948590c50df496ea83f76e2227e24a32c2814...\n",
       "\n",
       "[265 rows x 1 columns]"
      ]
     },
     "execution_count": 13,
     "metadata": {},
     "output_type": "execute_result"
    }
   ],
   "source": [
    "port3"
   ]
  },
  {
   "cell_type": "code",
   "execution_count": 14,
   "metadata": {},
   "outputs": [
    {
     "data": {
      "text/plain": [
       "Index(['id', 'fl_matriz', 'de_natureza_juridica', 'sg_uf',\n",
       "       'natureza_juridica_macro', 'de_ramo', 'setor', 'idade_empresa_anos',\n",
       "       'idade_emp_cat', 'fl_me',\n",
       "       ...\n",
       "       'media_meses_servicos', 'max_meses_servicos', 'min_meses_servicos',\n",
       "       'qt_funcionarios', 'qt_funcionarios_12meses', 'qt_funcionarios_24meses',\n",
       "       'tx_crescimento_12meses', 'tx_crescimento_24meses', 'tx_rotatividade',\n",
       "       'qt_filiais'],\n",
       "      dtype='object', length=181)"
      ]
     },
     "execution_count": 14,
     "metadata": {},
     "output_type": "execute_result"
    }
   ],
   "source": [
    "## Verificando colunas\n",
    "market.columns"
   ]
  },
  {
   "cell_type": "code",
   "execution_count": 15,
   "metadata": {},
   "outputs": [
    {
     "data": {
      "text/plain": [
       "Index(['id', 'fl_matriz', 'de_natureza_juridica', 'sg_uf',\n",
       "       'natureza_juridica_macro', 'de_ramo', 'setor', 'idade_empresa_anos',\n",
       "       'idade_emp_cat', 'fl_me',\n",
       "       ...\n",
       "       'media_meses_servicos', 'max_meses_servicos', 'min_meses_servicos',\n",
       "       'qt_funcionarios', 'qt_funcionarios_12meses', 'qt_funcionarios_24meses',\n",
       "       'tx_crescimento_12meses', 'tx_crescimento_24meses', 'tx_rotatividade',\n",
       "       'qt_filiais'],\n",
       "      dtype='object', length=181)"
      ]
     },
     "execution_count": 15,
     "metadata": {},
     "output_type": "execute_result"
    }
   ],
   "source": [
    "port1.columns"
   ]
  },
  {
   "cell_type": "code",
   "execution_count": 16,
   "metadata": {},
   "outputs": [
    {
     "data": {
      "text/plain": [
       "Index(['id'], dtype='object')"
      ]
     },
     "execution_count": 16,
     "metadata": {},
     "output_type": "execute_result"
    }
   ],
   "source": [
    "port2.columns"
   ]
  },
  {
   "cell_type": "code",
   "execution_count": 17,
   "metadata": {},
   "outputs": [
    {
     "data": {
      "text/plain": [
       "Index(['id'], dtype='object')"
      ]
     },
     "execution_count": 17,
     "metadata": {},
     "output_type": "execute_result"
    }
   ],
   "source": [
    "port3.columns"
   ]
  },
  {
   "cell_type": "code",
   "execution_count": 18,
   "metadata": {},
   "outputs": [],
   "source": [
    "## Portfolio 2 e 3 possuem apenas a coluna ID. "
   ]
  },
  {
   "cell_type": "markdown",
   "metadata": {},
   "source": [
    "# EDA - Market dataset"
   ]
  },
  {
   "cell_type": "code",
   "execution_count": 19,
   "metadata": {},
   "outputs": [
    {
     "data": {
      "text/plain": [
       "55507843"
      ]
     },
     "execution_count": 19,
     "metadata": {},
     "output_type": "execute_result"
    }
   ],
   "source": [
    "## Volume absurdo de valores nulos\n",
    "market.isna().sum().sum()"
   ]
  },
  {
   "cell_type": "code",
   "execution_count": 20,
   "metadata": {},
   "outputs": [
    {
     "data": {
      "text/plain": [
       "Index(['setor', 'dt_situacao', 'nm_divisao', 'nm_segmento', 'fl_spa',\n",
       "       'fl_antt', 'fl_veiculo', 'vl_total_tancagem', 'vl_total_veiculos_antt',\n",
       "       'vl_total_veiculos_leves',\n",
       "       ...\n",
       "       'min_meses_servicos_all', 'media_meses_servicos', 'max_meses_servicos',\n",
       "       'min_meses_servicos', 'qt_funcionarios', 'qt_funcionarios_12meses',\n",
       "       'qt_funcionarios_24meses', 'tx_crescimento_12meses',\n",
       "       'tx_crescimento_24meses', 'tx_rotatividade'],\n",
       "      dtype='object', length=163)"
      ]
     },
     "execution_count": 20,
     "metadata": {},
     "output_type": "execute_result"
    }
   ],
   "source": [
    "## Verificar colunas com valores nulos\n",
    "market.loc[:, market.isnull().any()].columns"
   ]
  },
  {
   "cell_type": "code",
   "execution_count": 21,
   "metadata": {},
   "outputs": [],
   "source": [
    "## Identificando o percentual de nulidade nas colunas\n",
    "null_cols = market.isna().sum()/(len(market))*100"
   ]
  },
  {
   "cell_type": "code",
   "execution_count": 22,
   "metadata": {},
   "outputs": [
    {
     "data": {
      "text/plain": [
       "id                          0.000000\n",
       "fl_matriz                   0.000000\n",
       "de_natureza_juridica        0.000000\n",
       "sg_uf                       0.000000\n",
       "natureza_juridica_macro     0.000000\n",
       "                             ...    \n",
       "qt_funcionarios_24meses    77.595836\n",
       "tx_crescimento_12meses     84.017236\n",
       "tx_crescimento_24meses     83.989980\n",
       "tx_rotatividade            77.595836\n",
       "qt_filiais                  0.000000\n",
       "Length: 181, dtype: float64"
      ]
     },
     "execution_count": 22,
     "metadata": {},
     "output_type": "execute_result"
    }
   ],
   "source": [
    "null_cols"
   ]
  },
  {
   "cell_type": "code",
   "execution_count": 23,
   "metadata": {},
   "outputs": [],
   "source": [
    "## Temos somente 18 colunas sem nenhum valor nulo\n",
    "import seaborn as sns"
   ]
  },
  {
   "cell_type": "code",
   "execution_count": 24,
   "metadata": {},
   "outputs": [
    {
     "data": {
      "text/plain": [
       "<matplotlib.axes._subplots.AxesSubplot at 0x22bb71efc08>"
      ]
     },
     "execution_count": 24,
     "metadata": {},
     "output_type": "execute_result"
    },
    {
     "data": {
      "image/png": "[encoded data removed]",
      "text/plain": [
       "<Figure size 432x288 with 1 Axes>"
      ]
     },
     "metadata": {
      "needs_background": "light"
     },
     "output_type": "display_data"
    }
   ],
   "source": [
    "## Podemos visualizar que o dataset é em sua maior parte composto por valores nulos\n",
    "sns.distplot(null_cols)"
   ]
  },
  {
   "cell_type": "code",
   "execution_count": 25,
   "metadata": {},
   "outputs": [],
   "source": [
    "df = pd.DataFrame(null_cols.loc[null_cols < 75])"
   ]
  },
  {
   "cell_type": "code",
   "execution_count": 26,
   "metadata": {},
   "outputs": [
    {
     "name": "stdout",
     "output_type": "stream",
     "text": [
      "<class 'pandas.core.frame.DataFrame'>\n",
      "Index: 52 entries, id to qt_filiais\n",
      "Data columns (total 1 columns):\n",
      " #   Column  Non-Null Count  Dtype  \n",
      "---  ------  --------------  -----  \n",
      " 0   0       52 non-null     float64\n",
      "dtypes: float64(1)\n",
      "memory usage: 832.0+ bytes\n"
     ]
    }
   ],
   "source": [
    "df.info()"
   ]
  },
  {
   "cell_type": "code",
   "execution_count": 27,
   "metadata": {},
   "outputs": [],
   "source": [
    "df.reset_index(inplace=True)"
   ]
  },
  {
   "cell_type": "code",
   "execution_count": 28,
   "metadata": {},
   "outputs": [],
   "source": [
    "df = (df['index'])"
   ]
  },
  {
   "cell_type": "code",
   "execution_count": 29,
   "metadata": {},
   "outputs": [
    {
     "data": {
      "text/plain": [
       "52"
      ]
     },
     "execution_count": 29,
     "metadata": {},
     "output_type": "execute_result"
    }
   ],
   "source": [
    "## Temos apenas 52 colunas com menos de 75% dos dados nulos\n",
    "len(df)"
   ]
  },
  {
   "cell_type": "code",
   "execution_count": 30,
   "metadata": {},
   "outputs": [],
   "source": [
    "df = np.array(df)"
   ]
  },
  {
   "cell_type": "code",
   "execution_count": 31,
   "metadata": {},
   "outputs": [],
   "source": [
    "clean_mkt = market[df]"
   ]
  },
  {
   "cell_type": "code",
   "execution_count": 32,
   "metadata": {},
   "outputs": [
    {
     "data": {
      "text/plain": [
       "id                                        object\n",
       "fl_matriz                                   bool\n",
       "de_natureza_juridica                      object\n",
       "sg_uf                                     object\n",
       "natureza_juridica_macro                   object\n",
       "de_ramo                                   object\n",
       "setor                                     object\n",
       "idade_empresa_anos                       float64\n",
       "idade_emp_cat                             object\n",
       "fl_me                                       bool\n",
       "fl_sa                                       bool\n",
       "fl_epp                                      bool\n",
       "fl_mei                                      bool\n",
       "fl_ltda                                     bool\n",
       "dt_situacao                               object\n",
       "fl_st_especial                              bool\n",
       "fl_email                                    bool\n",
       "fl_telefone                                 bool\n",
       "fl_rm                                     object\n",
       "nm_divisao                                object\n",
       "nm_segmento                               object\n",
       "fl_spa                                    object\n",
       "fl_antt                                   object\n",
       "fl_veiculo                                object\n",
       "fl_optante_simples                        object\n",
       "vl_total_veiculos_pesados_grupo          float64\n",
       "vl_total_veiculos_leves_grupo            float64\n",
       "fl_optante_simei                          object\n",
       "sg_uf_matriz                              object\n",
       "de_saude_tributaria                       object\n",
       "de_saude_rescencia                        object\n",
       "nu_meses_rescencia                       float64\n",
       "de_nivel_atividade                        object\n",
       "fl_simples_irregular                      object\n",
       "empsetorcensitariofaixarendapopulacao    float64\n",
       "nm_meso_regiao                            object\n",
       "nm_micro_regiao                           object\n",
       "fl_passivel_iss                           object\n",
       "qt_socios                                float64\n",
       "qt_socios_pf                             float64\n",
       "qt_socios_pj                             float64\n",
       "idade_media_socios                       float64\n",
       "idade_maxima_socios                      float64\n",
       "idade_minima_socios                      float64\n",
       "qt_socios_st_regular                     float64\n",
       "qt_socios_masculino                      float64\n",
       "qt_socios_feminino                       float64\n",
       "de_faixa_faturamento_estimado             object\n",
       "de_faixa_faturamento_estimado_grupo       object\n",
       "vl_faturamento_estimado_aux              float64\n",
       "vl_faturamento_estimado_grupo_aux        float64\n",
       "qt_filiais                                 int64\n",
       "dtype: object"
      ]
     },
     "execution_count": 32,
     "metadata": {},
     "output_type": "execute_result"
    }
   ],
   "source": [
    "clean_mkt.dtypes"
   ]
  },
  {
   "cell_type": "code",
   "execution_count": 33,
   "metadata": {},
   "outputs": [
    {
     "data": {
      "text/plain": [
       "id                                            0\n",
       "fl_matriz                                     0\n",
       "de_natureza_juridica                          0\n",
       "sg_uf                                         0\n",
       "natureza_juridica_macro                       0\n",
       "de_ramo                                       0\n",
       "setor                                      1927\n",
       "idade_empresa_anos                            0\n",
       "idade_emp_cat                                 0\n",
       "fl_me                                         0\n",
       "fl_sa                                         0\n",
       "fl_epp                                        0\n",
       "fl_mei                                        0\n",
       "fl_ltda                                       0\n",
       "dt_situacao                                   6\n",
       "fl_st_especial                                0\n",
       "fl_email                                      0\n",
       "fl_telefone                                   0\n",
       "fl_rm                                         0\n",
       "nm_divisao                                 1927\n",
       "nm_segmento                                1927\n",
       "fl_spa                                     1927\n",
       "fl_antt                                    1927\n",
       "fl_veiculo                                 1927\n",
       "fl_optante_simples                        82713\n",
       "vl_total_veiculos_pesados_grupo            1927\n",
       "vl_total_veiculos_leves_grupo              1927\n",
       "fl_optante_simei                          82713\n",
       "sg_uf_matriz                               1939\n",
       "de_saude_tributaria                       14851\n",
       "de_saude_rescencia                        14851\n",
       "nu_meses_rescencia                        45276\n",
       "de_nivel_atividade                        11168\n",
       "fl_simples_irregular                       1927\n",
       "empsetorcensitariofaixarendapopulacao    143829\n",
       "nm_meso_regiao                            58698\n",
       "nm_micro_regiao                           58698\n",
       "fl_passivel_iss                            1927\n",
       "qt_socios                                115091\n",
       "qt_socios_pf                             115091\n",
       "qt_socios_pj                             115091\n",
       "idade_media_socios                       151602\n",
       "idade_maxima_socios                      151602\n",
       "idade_minima_socios                      151602\n",
       "qt_socios_st_regular                     154917\n",
       "qt_socios_masculino                      267183\n",
       "qt_socios_feminino                       317269\n",
       "de_faixa_faturamento_estimado             27513\n",
       "de_faixa_faturamento_estimado_grupo       27513\n",
       "vl_faturamento_estimado_aux               27513\n",
       "vl_faturamento_estimado_grupo_aux         27513\n",
       "qt_filiais                                    0\n",
       "dtype: int64"
      ]
     },
     "execution_count": 33,
     "metadata": {},
     "output_type": "execute_result"
    }
   ],
   "source": [
    "clean_mkt.isnull().sum()"
   ]
  },
  {
   "cell_type": "markdown",
   "metadata": {},
   "source": [
    "## Agora vou trabalhar os dados categoricos mais relevantes e com poucos valores nulos"
   ]
  },
  {
   "cell_type": "code",
   "execution_count": 34,
   "metadata": {},
   "outputs": [
    {
     "data": {
      "text/plain": [
       "DE R$ 81.000,01 A R$ 360.000,00             273861\n",
       "ATE R$ 81.000,00                             98558\n",
       "DE R$ 360.000,01 A R$ 1.500.000,00           46225\n",
       "DE R$ 1.500.000,01 A R$ 4.800.000,00         10153\n",
       "DE R$ 4.800.000,01 A R$ 10.000.000,00         2150\n",
       "DE R$ 10.000.000,01 A R$ 30.000.000,00        1445\n",
       "SEM INFORMACAO                                1173\n",
       "DE R$ 30.000.000,01 A R$ 100.000.000,00        871\n",
       "DE R$ 100.000.000,01 A R$ 300.000.000,00       253\n",
       "DE R$ 300.000.000,01 A R$ 500.000.000,00        48\n",
       "DE R$ 500.000.000,01 A 1 BILHAO DE REAIS        27\n",
       "ACIMA DE 1 BILHAO DE REAIS                      21\n",
       "Name: de_faixa_faturamento_estimado, dtype: int64"
      ]
     },
     "execution_count": 34,
     "metadata": {},
     "output_type": "execute_result"
    }
   ],
   "source": [
    "## Observando categóricos\n",
    "clean_mkt['de_faixa_faturamento_estimado'].value_counts()"
   ]
  },
  {
   "cell_type": "code",
   "execution_count": 35,
   "metadata": {},
   "outputs": [],
   "source": [
    "## Vou converter colunas relevantes e com poucos nulos para tipo (categoria)"
   ]
  },
  {
   "cell_type": "code",
   "execution_count": 36,
   "metadata": {},
   "outputs": [],
   "source": [
    "def category(x):\n",
    "    x = x.astype('category')\n",
    "    y = x.cat.codes\n",
    "    return y"
   ]
  },
  {
   "cell_type": "code",
   "execution_count": 37,
   "metadata": {},
   "outputs": [
    {
     "name": "stderr",
     "output_type": "stream",
     "text": [
      "C:\\Users\\rodne\\anaconda3\\lib\\site-packages\\ipykernel_launcher.py:2: SettingWithCopyWarning: \n",
      "A value is trying to be set on a copy of a slice from a DataFrame.\n",
      "Try using .loc[row_indexer,col_indexer] = value instead\n",
      "\n",
      "See the caveats in the documentation: https://pandas.pydata.org/pandas-docs/stable/user_guide/indexing.html#returning-a-view-versus-a-copy\n",
      "  \n",
      "C:\\Users\\rodne\\anaconda3\\lib\\site-packages\\ipykernel_launcher.py:3: SettingWithCopyWarning: \n",
      "A value is trying to be set on a copy of a slice from a DataFrame.\n",
      "Try using .loc[row_indexer,col_indexer] = value instead\n",
      "\n",
      "See the caveats in the documentation: https://pandas.pydata.org/pandas-docs/stable/user_guide/indexing.html#returning-a-view-versus-a-copy\n",
      "  This is separate from the ipykernel package so we can avoid doing imports until\n",
      "C:\\Users\\rodne\\anaconda3\\lib\\site-packages\\ipykernel_launcher.py:4: SettingWithCopyWarning: \n",
      "A value is trying to be set on a copy of a slice from a DataFrame.\n",
      "Try using .loc[row_indexer,col_indexer] = value instead\n",
      "\n",
      "See the caveats in the documentation: https://pandas.pydata.org/pandas-docs/stable/user_guide/indexing.html#returning-a-view-versus-a-copy\n",
      "  after removing the cwd from sys.path.\n",
      "C:\\Users\\rodne\\anaconda3\\lib\\site-packages\\ipykernel_launcher.py:5: SettingWithCopyWarning: \n",
      "A value is trying to be set on a copy of a slice from a DataFrame.\n",
      "Try using .loc[row_indexer,col_indexer] = value instead\n",
      "\n",
      "See the caveats in the documentation: https://pandas.pydata.org/pandas-docs/stable/user_guide/indexing.html#returning-a-view-versus-a-copy\n",
      "  \"\"\"\n",
      "C:\\Users\\rodne\\anaconda3\\lib\\site-packages\\ipykernel_launcher.py:6: SettingWithCopyWarning: \n",
      "A value is trying to be set on a copy of a slice from a DataFrame.\n",
      "Try using .loc[row_indexer,col_indexer] = value instead\n",
      "\n",
      "See the caveats in the documentation: https://pandas.pydata.org/pandas-docs/stable/user_guide/indexing.html#returning-a-view-versus-a-copy\n",
      "  \n",
      "C:\\Users\\rodne\\anaconda3\\lib\\site-packages\\ipykernel_launcher.py:7: SettingWithCopyWarning: \n",
      "A value is trying to be set on a copy of a slice from a DataFrame.\n",
      "Try using .loc[row_indexer,col_indexer] = value instead\n",
      "\n",
      "See the caveats in the documentation: https://pandas.pydata.org/pandas-docs/stable/user_guide/indexing.html#returning-a-view-versus-a-copy\n",
      "  import sys\n",
      "C:\\Users\\rodne\\anaconda3\\lib\\site-packages\\ipykernel_launcher.py:8: SettingWithCopyWarning: \n",
      "A value is trying to be set on a copy of a slice from a DataFrame.\n",
      "Try using .loc[row_indexer,col_indexer] = value instead\n",
      "\n",
      "See the caveats in the documentation: https://pandas.pydata.org/pandas-docs/stable/user_guide/indexing.html#returning-a-view-versus-a-copy\n",
      "  \n"
     ]
    }
   ],
   "source": [
    "## Não converti todas as colunas por excesso de valores nulos, escolhi as que possuiam mais de 90% dos dados\n",
    "clean_mkt['de_faixa_faturamento_estimado'] = category(clean_mkt['de_faixa_faturamento_estimado'])\n",
    "clean_mkt['de_faixa_faturamento_estimado_grupo'] = category(clean_mkt['de_faixa_faturamento_estimado_grupo'])\n",
    "clean_mkt['vl_faturamento_estimado_aux'] = category(clean_mkt['vl_faturamento_estimado_aux'])\n",
    "clean_mkt['de_saude_tributaria'] = category(clean_mkt['de_saude_tributaria'])\n",
    "clean_mkt['de_saude_rescencia'] = category(clean_mkt['de_saude_rescencia'])\n",
    "clean_mkt['de_nivel_atividade'] = category(clean_mkt['de_nivel_atividade'])\n",
    "clean_mkt['de_natureza_juridica'] = category(clean_mkt['de_natureza_juridica'])"
   ]
  },
  {
   "cell_type": "code",
   "execution_count": 38,
   "metadata": {},
   "outputs": [
    {
     "data": {
      "text/plain": [
       "id                                        object\n",
       "fl_matriz                                   bool\n",
       "de_natureza_juridica                        int8\n",
       "sg_uf                                     object\n",
       "natureza_juridica_macro                   object\n",
       "de_ramo                                   object\n",
       "setor                                     object\n",
       "idade_empresa_anos                       float64\n",
       "idade_emp_cat                             object\n",
       "fl_me                                       bool\n",
       "fl_sa                                       bool\n",
       "fl_epp                                      bool\n",
       "fl_mei                                      bool\n",
       "fl_ltda                                     bool\n",
       "dt_situacao                               object\n",
       "fl_st_especial                              bool\n",
       "fl_email                                    bool\n",
       "fl_telefone                                 bool\n",
       "fl_rm                                     object\n",
       "nm_divisao                                object\n",
       "nm_segmento                               object\n",
       "fl_spa                                    object\n",
       "fl_antt                                   object\n",
       "fl_veiculo                                object\n",
       "fl_optante_simples                        object\n",
       "vl_total_veiculos_pesados_grupo          float64\n",
       "vl_total_veiculos_leves_grupo            float64\n",
       "fl_optante_simei                          object\n",
       "sg_uf_matriz                              object\n",
       "de_saude_tributaria                         int8\n",
       "de_saude_rescencia                          int8\n",
       "nu_meses_rescencia                       float64\n",
       "de_nivel_atividade                          int8\n",
       "fl_simples_irregular                      object\n",
       "empsetorcensitariofaixarendapopulacao    float64\n",
       "nm_meso_regiao                            object\n",
       "nm_micro_regiao                           object\n",
       "fl_passivel_iss                           object\n",
       "qt_socios                                float64\n",
       "qt_socios_pf                             float64\n",
       "qt_socios_pj                             float64\n",
       "idade_media_socios                       float64\n",
       "idade_maxima_socios                      float64\n",
       "idade_minima_socios                      float64\n",
       "qt_socios_st_regular                     float64\n",
       "qt_socios_masculino                      float64\n",
       "qt_socios_feminino                       float64\n",
       "de_faixa_faturamento_estimado               int8\n",
       "de_faixa_faturamento_estimado_grupo         int8\n",
       "vl_faturamento_estimado_aux                int16\n",
       "vl_faturamento_estimado_grupo_aux        float64\n",
       "qt_filiais                                 int64\n",
       "dtype: object"
      ]
     },
     "execution_count": 38,
     "metadata": {},
     "output_type": "execute_result"
    }
   ],
   "source": [
    "clean_mkt.dtypes"
   ]
  },
  {
   "cell_type": "code",
   "execution_count": 39,
   "metadata": {},
   "outputs": [],
   "source": [
    "estaticos = clean_mkt.select_dtypes(exclude='object')"
   ]
  },
  {
   "cell_type": "code",
   "execution_count": 40,
   "metadata": {},
   "outputs": [
    {
     "name": "stderr",
     "output_type": "stream",
     "text": [
      "C:\\Users\\rodne\\anaconda3\\lib\\site-packages\\ipykernel_launcher.py:1: SettingWithCopyWarning: \n",
      "A value is trying to be set on a copy of a slice from a DataFrame.\n",
      "Try using .loc[row_indexer,col_indexer] = value instead\n",
      "\n",
      "See the caveats in the documentation: https://pandas.pydata.org/pandas-docs/stable/user_guide/indexing.html#returning-a-view-versus-a-copy\n",
      "  \"\"\"Entry point for launching an IPython kernel.\n"
     ]
    }
   ],
   "source": [
    "estaticos['id'] = clean_mkt['id']"
   ]
  },
  {
   "cell_type": "code",
   "execution_count": 41,
   "metadata": {},
   "outputs": [
    {
     "name": "stdout",
     "output_type": "stream",
     "text": [
      "<class 'pandas.core.frame.DataFrame'>\n",
      "RangeIndex: 462298 entries, 0 to 462297\n",
      "Data columns (total 33 columns):\n",
      " #   Column                                 Non-Null Count   Dtype  \n",
      "---  ------                                 --------------   -----  \n",
      " 0   fl_matriz                              462298 non-null  bool   \n",
      " 1   de_natureza_juridica                   462298 non-null  int8   \n",
      " 2   idade_empresa_anos                     462298 non-null  float64\n",
      " 3   fl_me                                  462298 non-null  bool   \n",
      " 4   fl_sa                                  462298 non-null  bool   \n",
      " 5   fl_epp                                 462298 non-null  bool   \n",
      " 6   fl_mei                                 462298 non-null  bool   \n",
      " 7   fl_ltda                                462298 non-null  bool   \n",
      " 8   fl_st_especial                         462298 non-null  bool   \n",
      " 9   fl_email                               462298 non-null  bool   \n",
      " 10  fl_telefone                            462298 non-null  bool   \n",
      " 11  vl_total_veiculos_pesados_grupo        460371 non-null  float64\n",
      " 12  vl_total_veiculos_leves_grupo          460371 non-null  float64\n",
      " 13  de_saude_tributaria                    462298 non-null  int8   \n",
      " 14  de_saude_rescencia                     462298 non-null  int8   \n",
      " 15  nu_meses_rescencia                     417022 non-null  float64\n",
      " 16  de_nivel_atividade                     462298 non-null  int8   \n",
      " 17  empsetorcensitariofaixarendapopulacao  318469 non-null  float64\n",
      " 18  qt_socios                              347207 non-null  float64\n",
      " 19  qt_socios_pf                           347207 non-null  float64\n",
      " 20  qt_socios_pj                           347207 non-null  float64\n",
      " 21  idade_media_socios                     310696 non-null  float64\n",
      " 22  idade_maxima_socios                    310696 non-null  float64\n",
      " 23  idade_minima_socios                    310696 non-null  float64\n",
      " 24  qt_socios_st_regular                   307381 non-null  float64\n",
      " 25  qt_socios_masculino                    195115 non-null  float64\n",
      " 26  qt_socios_feminino                     145029 non-null  float64\n",
      " 27  de_faixa_faturamento_estimado          462298 non-null  int8   \n",
      " 28  de_faixa_faturamento_estimado_grupo    462298 non-null  int8   \n",
      " 29  vl_faturamento_estimado_aux            462298 non-null  int16  \n",
      " 30  vl_faturamento_estimado_grupo_aux      434785 non-null  float64\n",
      " 31  qt_filiais                             462298 non-null  int64  \n",
      " 32  id                                     462298 non-null  object \n",
      "dtypes: bool(9), float64(15), int16(1), int64(1), int8(6), object(1)\n",
      "memory usage: 67.5+ MB\n"
     ]
    }
   ],
   "source": [
    "estaticos.info()"
   ]
  },
  {
   "cell_type": "code",
   "execution_count": 42,
   "metadata": {},
   "outputs": [],
   "source": [
    "## Restaram 33 colunas"
   ]
  },
  {
   "cell_type": "code",
   "execution_count": 43,
   "metadata": {},
   "outputs": [
    {
     "data": {
      "text/plain": [
       "<matplotlib.axes._subplots.AxesSubplot at 0x22bb8790188>"
      ]
     },
     "execution_count": 43,
     "metadata": {},
     "output_type": "execute_result"
    },
    {
     "data": {
      "image/png": "[encoded data removed]",
      "text/plain": [
       "<Figure size 432x288 with 1 Axes>"
      ]
     },
     "metadata": {
      "needs_background": "light"
     },
     "output_type": "display_data"
    }
   ],
   "source": [
    "sns.heatmap(estaticos.isnull(),yticklabels=False,cbar=False,cmap='viridis')"
   ]
  },
  {
   "cell_type": "code",
   "execution_count": 44,
   "metadata": {},
   "outputs": [],
   "source": [
    "## Melhorou bastante. Vou verificar nulos acima de 95%"
   ]
  },
  {
   "cell_type": "code",
   "execution_count": 45,
   "metadata": {},
   "outputs": [],
   "source": [
    "null= estaticos.isna().sum()/(len(estaticos))*100"
   ]
  },
  {
   "cell_type": "code",
   "execution_count": 46,
   "metadata": {},
   "outputs": [],
   "source": [
    "cols_to_drop = pd.DataFrame(null.loc[null > 5])"
   ]
  },
  {
   "cell_type": "code",
   "execution_count": 47,
   "metadata": {},
   "outputs": [],
   "source": [
    "cols_to_drop = cols_to_drop.index"
   ]
  },
  {
   "cell_type": "code",
   "execution_count": 48,
   "metadata": {},
   "outputs": [
    {
     "name": "stderr",
     "output_type": "stream",
     "text": [
      "C:\\Users\\rodne\\anaconda3\\lib\\site-packages\\pandas\\core\\frame.py:3997: SettingWithCopyWarning: \n",
      "A value is trying to be set on a copy of a slice from a DataFrame\n",
      "\n",
      "See the caveats in the documentation: https://pandas.pydata.org/pandas-docs/stable/user_guide/indexing.html#returning-a-view-versus-a-copy\n",
      "  errors=errors,\n"
     ]
    }
   ],
   "source": [
    "estaticos.drop(cols_to_drop, inplace=True, axis=1)"
   ]
  },
  {
   "cell_type": "code",
   "execution_count": 49,
   "metadata": {},
   "outputs": [],
   "source": [
    "## Vou retirar mais essas duas colunas sem muita relevancia\n",
    "estaticos.drop(['vl_total_veiculos_pesados_grupo', 'vl_total_veiculos_leves_grupo'], axis=1, inplace=True)"
   ]
  },
  {
   "cell_type": "code",
   "execution_count": 50,
   "metadata": {},
   "outputs": [],
   "source": [
    "### Ficamos com 19 colnas"
   ]
  },
  {
   "cell_type": "code",
   "execution_count": 51,
   "metadata": {},
   "outputs": [
    {
     "data": {
      "text/html": [
       "<div>\n",
       "<style scoped>\n",
       "    .dataframe tbody tr th:only-of-type {\n",
       "        vertical-align: middle;\n",
       "    }\n",
       "\n",
       "    .dataframe tbody tr th {\n",
       "        vertical-align: top;\n",
       "    }\n",
       "\n",
       "    .dataframe thead th {\n",
       "        text-align: right;\n",
       "    }\n",
       "</style>\n",
       "<table border=\"1\" class=\"dataframe\">\n",
       "  <thead>\n",
       "    <tr style=\"text-align: right;\">\n",
       "      <th></th>\n",
       "      <th>fl_matriz</th>\n",
       "      <th>de_natureza_juridica</th>\n",
       "      <th>idade_empresa_anos</th>\n",
       "      <th>fl_me</th>\n",
       "      <th>fl_sa</th>\n",
       "      <th>fl_epp</th>\n",
       "      <th>fl_mei</th>\n",
       "      <th>fl_ltda</th>\n",
       "      <th>fl_st_especial</th>\n",
       "      <th>fl_email</th>\n",
       "      <th>fl_telefone</th>\n",
       "      <th>de_saude_tributaria</th>\n",
       "      <th>de_saude_rescencia</th>\n",
       "      <th>de_nivel_atividade</th>\n",
       "      <th>de_faixa_faturamento_estimado</th>\n",
       "      <th>de_faixa_faturamento_estimado_grupo</th>\n",
       "      <th>vl_faturamento_estimado_aux</th>\n",
       "      <th>qt_filiais</th>\n",
       "      <th>id</th>\n",
       "    </tr>\n",
       "  </thead>\n",
       "  <tbody>\n",
       "    <tr>\n",
       "      <th>0</th>\n",
       "      <td>True</td>\n",
       "      <td>60</td>\n",
       "      <td>14.457534</td>\n",
       "      <td>False</td>\n",
       "      <td>False</td>\n",
       "      <td>False</td>\n",
       "      <td>False</td>\n",
       "      <td>False</td>\n",
       "      <td>False</td>\n",
       "      <td>True</td>\n",
       "      <td>True</td>\n",
       "      <td>4</td>\n",
       "      <td>0</td>\n",
       "      <td>0</td>\n",
       "      <td>2</td>\n",
       "      <td>2</td>\n",
       "      <td>176</td>\n",
       "      <td>0</td>\n",
       "      <td>a6984c3ae395090e3bee8ad63c3758b110de096d5d8195...</td>\n",
       "    </tr>\n",
       "    <tr>\n",
       "      <th>1</th>\n",
       "      <td>True</td>\n",
       "      <td>17</td>\n",
       "      <td>1.463014</td>\n",
       "      <td>False</td>\n",
       "      <td>False</td>\n",
       "      <td>False</td>\n",
       "      <td>True</td>\n",
       "      <td>False</td>\n",
       "      <td>False</td>\n",
       "      <td>True</td>\n",
       "      <td>True</td>\n",
       "      <td>2</td>\n",
       "      <td>1</td>\n",
       "      <td>1</td>\n",
       "      <td>10</td>\n",
       "      <td>10</td>\n",
       "      <td>16</td>\n",
       "      <td>0</td>\n",
       "      <td>6178f41ade1365e44bc2c46654c2c8c0eaae27dcb476c4...</td>\n",
       "    </tr>\n",
       "    <tr>\n",
       "      <th>2</th>\n",
       "      <td>True</td>\n",
       "      <td>17</td>\n",
       "      <td>7.093151</td>\n",
       "      <td>False</td>\n",
       "      <td>False</td>\n",
       "      <td>False</td>\n",
       "      <td>True</td>\n",
       "      <td>False</td>\n",
       "      <td>False</td>\n",
       "      <td>False</td>\n",
       "      <td>True</td>\n",
       "      <td>0</td>\n",
       "      <td>0</td>\n",
       "      <td>2</td>\n",
       "      <td>1</td>\n",
       "      <td>1</td>\n",
       "      <td>3</td>\n",
       "      <td>0</td>\n",
       "      <td>4a7e5069a397f12fdd7fd57111d6dc5d3ba558958efc02...</td>\n",
       "    </tr>\n",
       "    <tr>\n",
       "      <th>3</th>\n",
       "      <td>True</td>\n",
       "      <td>17</td>\n",
       "      <td>6.512329</td>\n",
       "      <td>False</td>\n",
       "      <td>False</td>\n",
       "      <td>False</td>\n",
       "      <td>False</td>\n",
       "      <td>False</td>\n",
       "      <td>False</td>\n",
       "      <td>True</td>\n",
       "      <td>True</td>\n",
       "      <td>0</td>\n",
       "      <td>0</td>\n",
       "      <td>2</td>\n",
       "      <td>10</td>\n",
       "      <td>10</td>\n",
       "      <td>16</td>\n",
       "      <td>0</td>\n",
       "      <td>3348900fe63216a439d2e5238c79ddd46ede454df7b9d8...</td>\n",
       "    </tr>\n",
       "    <tr>\n",
       "      <th>4</th>\n",
       "      <td>True</td>\n",
       "      <td>17</td>\n",
       "      <td>3.200000</td>\n",
       "      <td>False</td>\n",
       "      <td>False</td>\n",
       "      <td>False</td>\n",
       "      <td>False</td>\n",
       "      <td>False</td>\n",
       "      <td>False</td>\n",
       "      <td>True</td>\n",
       "      <td>True</td>\n",
       "      <td>4</td>\n",
       "      <td>0</td>\n",
       "      <td>0</td>\n",
       "      <td>10</td>\n",
       "      <td>10</td>\n",
       "      <td>16</td>\n",
       "      <td>0</td>\n",
       "      <td>1f9bcabc9d3173c1fe769899e4fac14b053037b953a1e4...</td>\n",
       "    </tr>\n",
       "    <tr>\n",
       "      <th>...</th>\n",
       "      <td>...</td>\n",
       "      <td>...</td>\n",
       "      <td>...</td>\n",
       "      <td>...</td>\n",
       "      <td>...</td>\n",
       "      <td>...</td>\n",
       "      <td>...</td>\n",
       "      <td>...</td>\n",
       "      <td>...</td>\n",
       "      <td>...</td>\n",
       "      <td>...</td>\n",
       "      <td>...</td>\n",
       "      <td>...</td>\n",
       "      <td>...</td>\n",
       "      <td>...</td>\n",
       "      <td>...</td>\n",
       "      <td>...</td>\n",
       "      <td>...</td>\n",
       "      <td>...</td>\n",
       "    </tr>\n",
       "    <tr>\n",
       "      <th>462293</th>\n",
       "      <td>True</td>\n",
       "      <td>17</td>\n",
       "      <td>3.254795</td>\n",
       "      <td>False</td>\n",
       "      <td>False</td>\n",
       "      <td>False</td>\n",
       "      <td>True</td>\n",
       "      <td>False</td>\n",
       "      <td>False</td>\n",
       "      <td>True</td>\n",
       "      <td>True</td>\n",
       "      <td>4</td>\n",
       "      <td>0</td>\n",
       "      <td>0</td>\n",
       "      <td>1</td>\n",
       "      <td>1</td>\n",
       "      <td>3</td>\n",
       "      <td>0</td>\n",
       "      <td>469ee5fc984d0bb60aa2f40cda4d003d7c9b963d149ed3...</td>\n",
       "    </tr>\n",
       "    <tr>\n",
       "      <th>462294</th>\n",
       "      <td>True</td>\n",
       "      <td>17</td>\n",
       "      <td>8.953425</td>\n",
       "      <td>False</td>\n",
       "      <td>False</td>\n",
       "      <td>False</td>\n",
       "      <td>False</td>\n",
       "      <td>False</td>\n",
       "      <td>False</td>\n",
       "      <td>False</td>\n",
       "      <td>False</td>\n",
       "      <td>3</td>\n",
       "      <td>0</td>\n",
       "      <td>3</td>\n",
       "      <td>10</td>\n",
       "      <td>10</td>\n",
       "      <td>16</td>\n",
       "      <td>0</td>\n",
       "      <td>656f496e7e2fad708f0022d8ad97d2cb9344e839a5f3cb...</td>\n",
       "    </tr>\n",
       "    <tr>\n",
       "      <th>462295</th>\n",
       "      <td>True</td>\n",
       "      <td>0</td>\n",
       "      <td>20.745205</td>\n",
       "      <td>False</td>\n",
       "      <td>False</td>\n",
       "      <td>False</td>\n",
       "      <td>False</td>\n",
       "      <td>False</td>\n",
       "      <td>False</td>\n",
       "      <td>False</td>\n",
       "      <td>False</td>\n",
       "      <td>0</td>\n",
       "      <td>0</td>\n",
       "      <td>2</td>\n",
       "      <td>10</td>\n",
       "      <td>10</td>\n",
       "      <td>16</td>\n",
       "      <td>0</td>\n",
       "      <td>9b933a5cf2149d1338f00fb459d34a16b9b0f2e8d3e8e1...</td>\n",
       "    </tr>\n",
       "    <tr>\n",
       "      <th>462296</th>\n",
       "      <td>True</td>\n",
       "      <td>60</td>\n",
       "      <td>1.909589</td>\n",
       "      <td>False</td>\n",
       "      <td>False</td>\n",
       "      <td>False</td>\n",
       "      <td>False</td>\n",
       "      <td>False</td>\n",
       "      <td>False</td>\n",
       "      <td>True</td>\n",
       "      <td>False</td>\n",
       "      <td>4</td>\n",
       "      <td>0</td>\n",
       "      <td>0</td>\n",
       "      <td>7</td>\n",
       "      <td>7</td>\n",
       "      <td>33</td>\n",
       "      <td>0</td>\n",
       "      <td>84db0f17467cf4f02439e01ade57150b6ac59d9dae53ed...</td>\n",
       "    </tr>\n",
       "    <tr>\n",
       "      <th>462297</th>\n",
       "      <td>True</td>\n",
       "      <td>17</td>\n",
       "      <td>0.797260</td>\n",
       "      <td>False</td>\n",
       "      <td>False</td>\n",
       "      <td>False</td>\n",
       "      <td>True</td>\n",
       "      <td>False</td>\n",
       "      <td>False</td>\n",
       "      <td>True</td>\n",
       "      <td>True</td>\n",
       "      <td>2</td>\n",
       "      <td>4</td>\n",
       "      <td>1</td>\n",
       "      <td>10</td>\n",
       "      <td>10</td>\n",
       "      <td>16</td>\n",
       "      <td>0</td>\n",
       "      <td>3d43e934e150b86be1e67524f5ba1018b27da9ef25566d...</td>\n",
       "    </tr>\n",
       "  </tbody>\n",
       "</table>\n",
       "<p>462298 rows × 19 columns</p>\n",
       "</div>"
      ],
      "text/plain": [
       "        fl_matriz  de_natureza_juridica  idade_empresa_anos  fl_me  fl_sa  \\\n",
       "0            True                    60           14.457534  False  False   \n",
       "1            True                    17            1.463014  False  False   \n",
       "2            True                    17            7.093151  False  False   \n",
       "3            True                    17            6.512329  False  False   \n",
       "4            True                    17            3.200000  False  False   \n",
       "...           ...                   ...                 ...    ...    ...   \n",
       "462293       True                    17            3.254795  False  False   \n",
       "462294       True                    17            8.953425  False  False   \n",
       "462295       True                     0           20.745205  False  False   \n",
       "462296       True                    60            1.909589  False  False   \n",
       "462297       True                    17            0.797260  False  False   \n",
       "\n",
       "        fl_epp  fl_mei  fl_ltda  fl_st_especial  fl_email  fl_telefone  \\\n",
       "0        False   False    False           False      True         True   \n",
       "1        False    True    False           False      True         True   \n",
       "2        False    True    False           False     False         True   \n",
       "3        False   False    False           False      True         True   \n",
       "4        False   False    False           False      True         True   \n",
       "...        ...     ...      ...             ...       ...          ...   \n",
       "462293   False    True    False           False      True         True   \n",
       "462294   False   False    False           False     False        False   \n",
       "462295   False   False    False           False     False        False   \n",
       "462296   False   False    False           False      True        False   \n",
       "462297   False    True    False           False      True         True   \n",
       "\n",
       "        de_saude_tributaria  de_saude_rescencia  de_nivel_atividade  \\\n",
       "0                         4                   0                   0   \n",
       "1                         2                   1                   1   \n",
       "2                         0                   0                   2   \n",
       "3                         0                   0                   2   \n",
       "4                         4                   0                   0   \n",
       "...                     ...                 ...                 ...   \n",
       "462293                    4                   0                   0   \n",
       "462294                    3                   0                   3   \n",
       "462295                    0                   0                   2   \n",
       "462296                    4                   0                   0   \n",
       "462297                    2                   4                   1   \n",
       "\n",
       "        de_faixa_faturamento_estimado  de_faixa_faturamento_estimado_grupo  \\\n",
       "0                                   2                                    2   \n",
       "1                                  10                                   10   \n",
       "2                                   1                                    1   \n",
       "3                                  10                                   10   \n",
       "4                                  10                                   10   \n",
       "...                               ...                                  ...   \n",
       "462293                              1                                    1   \n",
       "462294                             10                                   10   \n",
       "462295                             10                                   10   \n",
       "462296                              7                                    7   \n",
       "462297                             10                                   10   \n",
       "\n",
       "        vl_faturamento_estimado_aux  qt_filiais  \\\n",
       "0                               176           0   \n",
       "1                                16           0   \n",
       "2                                 3           0   \n",
       "3                                16           0   \n",
       "4                                16           0   \n",
       "...                             ...         ...   \n",
       "462293                            3           0   \n",
       "462294                           16           0   \n",
       "462295                           16           0   \n",
       "462296                           33           0   \n",
       "462297                           16           0   \n",
       "\n",
       "                                                       id  \n",
       "0       a6984c3ae395090e3bee8ad63c3758b110de096d5d8195...  \n",
       "1       6178f41ade1365e44bc2c46654c2c8c0eaae27dcb476c4...  \n",
       "2       4a7e5069a397f12fdd7fd57111d6dc5d3ba558958efc02...  \n",
       "3       3348900fe63216a439d2e5238c79ddd46ede454df7b9d8...  \n",
       "4       1f9bcabc9d3173c1fe769899e4fac14b053037b953a1e4...  \n",
       "...                                                   ...  \n",
       "462293  469ee5fc984d0bb60aa2f40cda4d003d7c9b963d149ed3...  \n",
       "462294  656f496e7e2fad708f0022d8ad97d2cb9344e839a5f3cb...  \n",
       "462295  9b933a5cf2149d1338f00fb459d34a16b9b0f2e8d3e8e1...  \n",
       "462296  84db0f17467cf4f02439e01ade57150b6ac59d9dae53ed...  \n",
       "462297  3d43e934e150b86be1e67524f5ba1018b27da9ef25566d...  \n",
       "\n",
       "[462298 rows x 19 columns]"
      ]
     },
     "execution_count": 51,
     "metadata": {},
     "output_type": "execute_result"
    }
   ],
   "source": [
    "estaticos.dropna()"
   ]
  },
  {
   "cell_type": "code",
   "execution_count": 52,
   "metadata": {},
   "outputs": [],
   "source": [
    "## vou conferir mais uma vez os datasets e iniciar a clusterização"
   ]
  },
  {
   "cell_type": "code",
   "execution_count": 53,
   "metadata": {},
   "outputs": [
    {
     "name": "stdout",
     "output_type": "stream",
     "text": [
      "<class 'pandas.core.frame.DataFrame'>\n",
      "RangeIndex: 462298 entries, 0 to 462297\n",
      "Data columns (total 19 columns):\n",
      " #   Column                               Non-Null Count   Dtype  \n",
      "---  ------                               --------------   -----  \n",
      " 0   fl_matriz                            462298 non-null  bool   \n",
      " 1   de_natureza_juridica                 462298 non-null  int8   \n",
      " 2   idade_empresa_anos                   462298 non-null  float64\n",
      " 3   fl_me                                462298 non-null  bool   \n",
      " 4   fl_sa                                462298 non-null  bool   \n",
      " 5   fl_epp                               462298 non-null  bool   \n",
      " 6   fl_mei                               462298 non-null  bool   \n",
      " 7   fl_ltda                              462298 non-null  bool   \n",
      " 8   fl_st_especial                       462298 non-null  bool   \n",
      " 9   fl_email                             462298 non-null  bool   \n",
      " 10  fl_telefone                          462298 non-null  bool   \n",
      " 11  de_saude_tributaria                  462298 non-null  int8   \n",
      " 12  de_saude_rescencia                   462298 non-null  int8   \n",
      " 13  de_nivel_atividade                   462298 non-null  int8   \n",
      " 14  de_faixa_faturamento_estimado        462298 non-null  int8   \n",
      " 15  de_faixa_faturamento_estimado_grupo  462298 non-null  int8   \n",
      " 16  vl_faturamento_estimado_aux          462298 non-null  int16  \n",
      " 17  qt_filiais                           462298 non-null  int64  \n",
      " 18  id                                   462298 non-null  object \n",
      "dtypes: bool(9), float64(1), int16(1), int64(1), int8(6), object(1)\n",
      "memory usage: 18.1+ MB\n"
     ]
    }
   ],
   "source": [
    "estaticos.info()"
   ]
  },
  {
   "cell_type": "code",
   "execution_count": 54,
   "metadata": {},
   "outputs": [],
   "source": [
    "## Tudo OK"
   ]
  },
  {
   "cell_type": "markdown",
   "metadata": {},
   "source": [
    "# Parte 2\n",
    "## Dataset pronto para clusterização"
   ]
  },
  {
   "cell_type": "code",
   "execution_count": 55,
   "metadata": {},
   "outputs": [],
   "source": [
    "## Importando libs\n",
    "from sklearn.cluster import KMeans\n",
    "from sklearn.preprocessing import StandardScaler\n",
    "from sklearn.decomposition import PCA\n",
    "from sklearn.preprocessing import LabelEncoder\n",
    "from math import sqrt"
   ]
  },
  {
   "cell_type": "code",
   "execution_count": 56,
   "metadata": {},
   "outputs": [],
   "source": [
    "## Voltando ao nome original do dataset\n",
    "market = estaticos.copy()"
   ]
  },
  {
   "cell_type": "code",
   "execution_count": 57,
   "metadata": {},
   "outputs": [],
   "source": [
    "market.drop('id', inplace=True, axis=1)"
   ]
  },
  {
   "cell_type": "code",
   "execution_count": 58,
   "metadata": {},
   "outputs": [
    {
     "data": {
      "text/html": [
       "<div>\n",
       "<style scoped>\n",
       "    .dataframe tbody tr th:only-of-type {\n",
       "        vertical-align: middle;\n",
       "    }\n",
       "\n",
       "    .dataframe tbody tr th {\n",
       "        vertical-align: top;\n",
       "    }\n",
       "\n",
       "    .dataframe thead th {\n",
       "        text-align: right;\n",
       "    }\n",
       "</style>\n",
       "<table border=\"1\" class=\"dataframe\">\n",
       "  <thead>\n",
       "    <tr style=\"text-align: right;\">\n",
       "      <th></th>\n",
       "      <th>fl_matriz</th>\n",
       "      <th>de_natureza_juridica</th>\n",
       "      <th>idade_empresa_anos</th>\n",
       "      <th>fl_me</th>\n",
       "      <th>fl_sa</th>\n",
       "      <th>fl_epp</th>\n",
       "      <th>fl_mei</th>\n",
       "      <th>fl_ltda</th>\n",
       "      <th>fl_st_especial</th>\n",
       "      <th>fl_email</th>\n",
       "      <th>fl_telefone</th>\n",
       "      <th>de_saude_tributaria</th>\n",
       "      <th>de_saude_rescencia</th>\n",
       "      <th>de_nivel_atividade</th>\n",
       "      <th>de_faixa_faturamento_estimado</th>\n",
       "      <th>de_faixa_faturamento_estimado_grupo</th>\n",
       "      <th>vl_faturamento_estimado_aux</th>\n",
       "      <th>qt_filiais</th>\n",
       "    </tr>\n",
       "  </thead>\n",
       "  <tbody>\n",
       "    <tr>\n",
       "      <th>0</th>\n",
       "      <td>0.259019</td>\n",
       "      <td>1.841563</td>\n",
       "      <td>0.468908</td>\n",
       "      <td>-0.051333</td>\n",
       "      <td>-0.136302</td>\n",
       "      <td>0.0</td>\n",
       "      <td>-0.696124</td>\n",
       "      <td>-0.051902</td>\n",
       "      <td>-0.012129</td>\n",
       "      <td>1.115080</td>\n",
       "      <td>0.614873</td>\n",
       "      <td>1.190613</td>\n",
       "      <td>-0.303314</td>\n",
       "      <td>-1.158361</td>\n",
       "      <td>-1.174533</td>\n",
       "      <td>-1.108845</td>\n",
       "      <td>1.708039</td>\n",
       "      <td>-0.061322</td>\n",
       "    </tr>\n",
       "    <tr>\n",
       "      <th>1</th>\n",
       "      <td>0.259019</td>\n",
       "      <td>-0.445031</td>\n",
       "      <td>-0.882484</td>\n",
       "      <td>-0.051333</td>\n",
       "      <td>-0.136302</td>\n",
       "      <td>0.0</td>\n",
       "      <td>1.436525</td>\n",
       "      <td>-0.051902</td>\n",
       "      <td>-0.012129</td>\n",
       "      <td>1.115080</td>\n",
       "      <td>0.614873</td>\n",
       "      <td>-0.015555</td>\n",
       "      <td>0.663651</td>\n",
       "      <td>-0.119302</td>\n",
       "      <td>0.739678</td>\n",
       "      <td>0.800796</td>\n",
       "      <td>-0.116824</td>\n",
       "      <td>-0.061322</td>\n",
       "    </tr>\n",
       "    <tr>\n",
       "      <th>2</th>\n",
       "      <td>0.259019</td>\n",
       "      <td>-0.445031</td>\n",
       "      <td>-0.296966</td>\n",
       "      <td>-0.051333</td>\n",
       "      <td>-0.136302</td>\n",
       "      <td>0.0</td>\n",
       "      <td>1.436525</td>\n",
       "      <td>-0.051902</td>\n",
       "      <td>-0.012129</td>\n",
       "      <td>-0.896797</td>\n",
       "      <td>0.614873</td>\n",
       "      <td>-1.221724</td>\n",
       "      <td>-0.303314</td>\n",
       "      <td>0.919756</td>\n",
       "      <td>-1.413809</td>\n",
       "      <td>-1.347550</td>\n",
       "      <td>-0.265094</td>\n",
       "      <td>-0.061322</td>\n",
       "    </tr>\n",
       "    <tr>\n",
       "      <th>3</th>\n",
       "      <td>0.259019</td>\n",
       "      <td>-0.445031</td>\n",
       "      <td>-0.357370</td>\n",
       "      <td>-0.051333</td>\n",
       "      <td>-0.136302</td>\n",
       "      <td>0.0</td>\n",
       "      <td>-0.696124</td>\n",
       "      <td>-0.051902</td>\n",
       "      <td>-0.012129</td>\n",
       "      <td>1.115080</td>\n",
       "      <td>0.614873</td>\n",
       "      <td>-1.221724</td>\n",
       "      <td>-0.303314</td>\n",
       "      <td>0.919756</td>\n",
       "      <td>0.739678</td>\n",
       "      <td>0.800796</td>\n",
       "      <td>-0.116824</td>\n",
       "      <td>-0.061322</td>\n",
       "    </tr>\n",
       "    <tr>\n",
       "      <th>4</th>\n",
       "      <td>0.259019</td>\n",
       "      <td>-0.445031</td>\n",
       "      <td>-0.701843</td>\n",
       "      <td>-0.051333</td>\n",
       "      <td>-0.136302</td>\n",
       "      <td>0.0</td>\n",
       "      <td>-0.696124</td>\n",
       "      <td>-0.051902</td>\n",
       "      <td>-0.012129</td>\n",
       "      <td>1.115080</td>\n",
       "      <td>0.614873</td>\n",
       "      <td>1.190613</td>\n",
       "      <td>-0.303314</td>\n",
       "      <td>-1.158361</td>\n",
       "      <td>0.739678</td>\n",
       "      <td>0.800796</td>\n",
       "      <td>-0.116824</td>\n",
       "      <td>-0.061322</td>\n",
       "    </tr>\n",
       "  </tbody>\n",
       "</table>\n",
       "</div>"
      ],
      "text/plain": [
       "   fl_matriz  de_natureza_juridica  idade_empresa_anos     fl_me     fl_sa  \\\n",
       "0   0.259019              1.841563            0.468908 -0.051333 -0.136302   \n",
       "1   0.259019             -0.445031           -0.882484 -0.051333 -0.136302   \n",
       "2   0.259019             -0.445031           -0.296966 -0.051333 -0.136302   \n",
       "3   0.259019             -0.445031           -0.357370 -0.051333 -0.136302   \n",
       "4   0.259019             -0.445031           -0.701843 -0.051333 -0.136302   \n",
       "\n",
       "   fl_epp    fl_mei   fl_ltda  fl_st_especial  fl_email  fl_telefone  \\\n",
       "0     0.0 -0.696124 -0.051902       -0.012129  1.115080     0.614873   \n",
       "1     0.0  1.436525 -0.051902       -0.012129  1.115080     0.614873   \n",
       "2     0.0  1.436525 -0.051902       -0.012129 -0.896797     0.614873   \n",
       "3     0.0 -0.696124 -0.051902       -0.012129  1.115080     0.614873   \n",
       "4     0.0 -0.696124 -0.051902       -0.012129  1.115080     0.614873   \n",
       "\n",
       "   de_saude_tributaria  de_saude_rescencia  de_nivel_atividade  \\\n",
       "0             1.190613           -0.303314           -1.158361   \n",
       "1            -0.015555            0.663651           -0.119302   \n",
       "2            -1.221724           -0.303314            0.919756   \n",
       "3            -1.221724           -0.303314            0.919756   \n",
       "4             1.190613           -0.303314           -1.158361   \n",
       "\n",
       "   de_faixa_faturamento_estimado  de_faixa_faturamento_estimado_grupo  \\\n",
       "0                      -1.174533                            -1.108845   \n",
       "1                       0.739678                             0.800796   \n",
       "2                      -1.413809                            -1.347550   \n",
       "3                       0.739678                             0.800796   \n",
       "4                       0.739678                             0.800796   \n",
       "\n",
       "   vl_faturamento_estimado_aux  qt_filiais  \n",
       "0                     1.708039   -0.061322  \n",
       "1                    -0.116824   -0.061322  \n",
       "2                    -0.265094   -0.061322  \n",
       "3                    -0.116824   -0.061322  \n",
       "4                    -0.116824   -0.061322  "
      ]
     },
     "execution_count": 58,
     "metadata": {},
     "output_type": "execute_result"
    }
   ],
   "source": [
    "## Normalizando os dados\n",
    "scale = StandardScaler()\n",
    "market_scale = scale.fit_transform(market)\n",
    "market_scale = pd.DataFrame(market_scale)\n",
    "market_scale.columns = market.columns\n",
    "market_scale.head()"
   ]
  },
  {
   "cell_type": "code",
   "execution_count": 59,
   "metadata": {},
   "outputs": [],
   "source": [
    "## Clusterizando os dados\n",
    "min_clusters = 2\n",
    "max_clusters = 8\n",
    "inertias = np.zeros(shape= (max_clusters - min_clusters +1,))"
   ]
  },
  {
   "cell_type": "code",
   "execution_count": 61,
   "metadata": {},
   "outputs": [],
   "source": [
    "## Aplicando KMeans na base\n",
    "for i in range(min_clusters, max_clusters+1):\n",
    "    km = KMeans(n_clusters= i, random_state=42)\n",
    "    km.fit(market_scale)\n",
    "    inertias[i-min_clusters] = km.inertia_"
   ]
  },
  {
   "cell_type": "code",
   "execution_count": 62,
   "metadata": {},
   "outputs": [],
   "source": [
    "## Funcao para verificar o numero ideal de clusters\n",
    "def number_clusters(inertias):\n",
    "    x1, y1 = 2, inertias[0]\n",
    "    x2, y2 = 20, inertias[len(inertias)-1]\n",
    "\n",
    "    distances = []\n",
    "    for i in range(len(inertias)):\n",
    "        x0 = i+2\n",
    "        y0 = inertias[i]\n",
    "        numerator = abs((y2-y1)*x0 - (x2-x1)*y0 + x2*y1 - y2*x1)\n",
    "        denominator = sqrt((y2 - y1)**2 + (x2 - x1)**2)\n",
    "        distances.append(numerator/denominator)\n",
    "    \n",
    "    return distances.index(max(distances)) "
   ]
  },
  {
   "cell_type": "code",
   "execution_count": 63,
   "metadata": {},
   "outputs": [
    {
     "data": {
      "text/plain": [
       "6"
      ]
     },
     "execution_count": 63,
     "metadata": {},
     "output_type": "execute_result"
    }
   ],
   "source": [
    "## Retornando numero ideal de clusters - Definidos na clusterização\n",
    "n = number_clusters(inertias)\n",
    "n"
   ]
  },
  {
   "cell_type": "code",
   "execution_count": 64,
   "metadata": {},
   "outputs": [
    {
     "data": {
      "image/png": "[encoded data removed]",
      "text/plain": [
       "<Figure size 1080x720 with 1 Axes>"
      ]
     },
     "metadata": {
      "needs_background": "light"
     },
     "output_type": "display_data"
    }
   ],
   "source": [
    "plt.figure(figsize=[15,10])\n",
    "plt.plot(range(min_clusters,max_clusters+1), inertias, linewidth =4, color= 'black', marker='D', markersize=10)\n",
    "plt.title(\"Avaliação Elbow Method para o numero de clusters\")\n",
    "plt.xlabel(\"Número de clusters\", family='Arial', fontsize=12, color='blue')\n",
    "plt.ylabel(\"Soma da distancia quadrada\", family='Arial', fontsize=12, color='green')\n",
    "plt.grid(which = 'both',color='red', axis='x', alpha=0.5)\n",
    "n_clusters = n \n",
    "plt.axvline(x=n_clusters, linewidth=2, color='red', linestyle='--')\n",
    "\n",
    "plt.show()"
   ]
  },
  {
   "cell_type": "code",
   "execution_count": 66,
   "metadata": {},
   "outputs": [],
   "source": [
    "## Aplicando PCA no modelo\n",
    "sklearn_pca = PCA(n_components = 2)\n",
    "Y_sklearn = sklearn_pca.fit_transform(market_scale)\n",
    "test_e = KMeans(n_clusters=n, random_state=42)\n",
    "fitted = test_e.fit(Y_sklearn)\n",
    "predicted_values = test_e.predict(Y_sklearn)\n",
    "centers = fitted.cluster_centers_"
   ]
  },
  {
   "cell_type": "code",
   "execution_count": 67,
   "metadata": {},
   "outputs": [
    {
     "data": {
      "text/plain": [
       "<matplotlib.collections.PathCollection at 0x22bb7182a08>"
      ]
     },
     "execution_count": 67,
     "metadata": {},
     "output_type": "execute_result"
    },
    {
     "data": {
      "image/png": "[encoded data removed]",
      "text/plain": [
       "<Figure size 1080x720 with 1 Axes>"
      ]
     },
     "metadata": {
      "needs_background": "light"
     },
     "output_type": "display_data"
    }
   ],
   "source": [
    "## Plotando clusters\n",
    "plt.figure(figsize=[15,10])\n",
    "plt.scatter(Y_sklearn[:, 0], Y_sklearn[:, 1], c=predicted_values, s=20, cmap='viridis')\n",
    "plt.scatter(centers[:, 0], centers[:, 1],c='black', s=300, alpha=0.6)"
   ]
  },
  {
   "cell_type": "code",
   "execution_count": 68,
   "metadata": {},
   "outputs": [],
   "source": [
    "modelo2 = KMeans(n_clusters=n, random_state=42)\n",
    "fitted = modelo2.fit(market_scale)"
   ]
  },
  {
   "cell_type": "code",
   "execution_count": 73,
   "metadata": {},
   "outputs": [],
   "source": [
    "market_scale['Clusters'] = fitted.labels_\n",
    "market['Clusters'] = fitted.labels_"
   ]
  },
  {
   "cell_type": "code",
   "execution_count": 74,
   "metadata": {},
   "outputs": [
    {
     "data": {
      "text/plain": [
       "<matplotlib.axes._subplots.AxesSubplot at 0x22be4b49e48>"
      ]
     },
     "execution_count": 74,
     "metadata": {},
     "output_type": "execute_result"
    },
    {
     "data": {
      "image/png": "[encoded data removed]",
      "text/plain": [
       "<Figure size 432x288 with 1 Axes>"
      ]
     },
     "metadata": {
      "needs_background": "light"
     },
     "output_type": "display_data"
    }
   ],
   "source": [
    "sns.countplot(market_scale.Clusters)"
   ]
  },
  {
   "cell_type": "markdown",
   "metadata": {},
   "source": [
    "## Modelo pronto\n",
    "### Agora vou aplicá-lo ao portfolio"
   ]
  },
  {
   "cell_type": "code",
   "execution_count": 75,
   "metadata": {},
   "outputs": [],
   "source": [
    "market_scale['id'] = estaticos['id']"
   ]
  },
  {
   "cell_type": "code",
   "execution_count": 76,
   "metadata": {},
   "outputs": [],
   "source": [
    "#Criando uma lista com os ids do portifólio\n",
    "ids_port1 = list(set(market_scale['id']).intersection(set(port1.id)))\n",
    "ids_port2 = list(set(market_scale['id']).intersection(set(port2.id)))\n",
    "ids_port3 = list(set(market_scale['id']).intersection(set(port3.id)))"
   ]
  },
  {
   "cell_type": "code",
   "execution_count": 77,
   "metadata": {},
   "outputs": [],
   "source": [
    "port1_cluster = market.loc[market_scale.id.isin(ids_port1),:]\n",
    "port2_cluster = market.loc[market_scale.id.isin(ids_port2),:]\n",
    "port3_cluster = market.loc[market_scale.id.isin(ids_port3),:]"
   ]
  },
  {
   "cell_type": "code",
   "execution_count": 78,
   "metadata": {},
   "outputs": [
    {
     "data": {
      "text/html": [
       "<div>\n",
       "<style scoped>\n",
       "    .dataframe tbody tr th:only-of-type {\n",
       "        vertical-align: middle;\n",
       "    }\n",
       "\n",
       "    .dataframe tbody tr th {\n",
       "        vertical-align: top;\n",
       "    }\n",
       "\n",
       "    .dataframe thead th {\n",
       "        text-align: right;\n",
       "    }\n",
       "</style>\n",
       "<table border=\"1\" class=\"dataframe\">\n",
       "  <thead>\n",
       "    <tr style=\"text-align: right;\">\n",
       "      <th></th>\n",
       "      <th>fl_matriz</th>\n",
       "      <th>de_natureza_juridica</th>\n",
       "      <th>idade_empresa_anos</th>\n",
       "      <th>fl_me</th>\n",
       "      <th>fl_sa</th>\n",
       "      <th>fl_epp</th>\n",
       "      <th>fl_mei</th>\n",
       "      <th>fl_ltda</th>\n",
       "      <th>fl_st_especial</th>\n",
       "      <th>fl_email</th>\n",
       "      <th>fl_telefone</th>\n",
       "      <th>de_saude_tributaria</th>\n",
       "      <th>de_saude_rescencia</th>\n",
       "      <th>de_nivel_atividade</th>\n",
       "      <th>de_faixa_faturamento_estimado</th>\n",
       "      <th>de_faixa_faturamento_estimado_grupo</th>\n",
       "      <th>vl_faturamento_estimado_aux</th>\n",
       "      <th>qt_filiais</th>\n",
       "      <th>Clusters</th>\n",
       "    </tr>\n",
       "  </thead>\n",
       "  <tbody>\n",
       "    <tr>\n",
       "      <th>369</th>\n",
       "      <td>True</td>\n",
       "      <td>17</td>\n",
       "      <td>0.646575</td>\n",
       "      <td>False</td>\n",
       "      <td>False</td>\n",
       "      <td>False</td>\n",
       "      <td>True</td>\n",
       "      <td>False</td>\n",
       "      <td>False</td>\n",
       "      <td>False</td>\n",
       "      <td>False</td>\n",
       "      <td>2</td>\n",
       "      <td>4</td>\n",
       "      <td>1</td>\n",
       "      <td>10</td>\n",
       "      <td>10</td>\n",
       "      <td>16</td>\n",
       "      <td>0</td>\n",
       "      <td>0</td>\n",
       "    </tr>\n",
       "    <tr>\n",
       "      <th>604</th>\n",
       "      <td>False</td>\n",
       "      <td>17</td>\n",
       "      <td>6.586301</td>\n",
       "      <td>False</td>\n",
       "      <td>False</td>\n",
       "      <td>False</td>\n",
       "      <td>False</td>\n",
       "      <td>False</td>\n",
       "      <td>False</td>\n",
       "      <td>True</td>\n",
       "      <td>True</td>\n",
       "      <td>4</td>\n",
       "      <td>0</td>\n",
       "      <td>2</td>\n",
       "      <td>10</td>\n",
       "      <td>7</td>\n",
       "      <td>16</td>\n",
       "      <td>4</td>\n",
       "      <td>4</td>\n",
       "    </tr>\n",
       "    <tr>\n",
       "      <th>1703</th>\n",
       "      <td>True</td>\n",
       "      <td>17</td>\n",
       "      <td>8.010959</td>\n",
       "      <td>False</td>\n",
       "      <td>False</td>\n",
       "      <td>False</td>\n",
       "      <td>True</td>\n",
       "      <td>False</td>\n",
       "      <td>False</td>\n",
       "      <td>False</td>\n",
       "      <td>False</td>\n",
       "      <td>1</td>\n",
       "      <td>0</td>\n",
       "      <td>2</td>\n",
       "      <td>1</td>\n",
       "      <td>1</td>\n",
       "      <td>3</td>\n",
       "      <td>0</td>\n",
       "      <td>3</td>\n",
       "    </tr>\n",
       "    <tr>\n",
       "      <th>2521</th>\n",
       "      <td>True</td>\n",
       "      <td>17</td>\n",
       "      <td>20.863014</td>\n",
       "      <td>False</td>\n",
       "      <td>False</td>\n",
       "      <td>False</td>\n",
       "      <td>False</td>\n",
       "      <td>False</td>\n",
       "      <td>False</td>\n",
       "      <td>False</td>\n",
       "      <td>False</td>\n",
       "      <td>4</td>\n",
       "      <td>0</td>\n",
       "      <td>0</td>\n",
       "      <td>1</td>\n",
       "      <td>1</td>\n",
       "      <td>3</td>\n",
       "      <td>0</td>\n",
       "      <td>2</td>\n",
       "    </tr>\n",
       "    <tr>\n",
       "      <th>5788</th>\n",
       "      <td>True</td>\n",
       "      <td>60</td>\n",
       "      <td>18.726027</td>\n",
       "      <td>False</td>\n",
       "      <td>False</td>\n",
       "      <td>False</td>\n",
       "      <td>False</td>\n",
       "      <td>False</td>\n",
       "      <td>False</td>\n",
       "      <td>True</td>\n",
       "      <td>True</td>\n",
       "      <td>4</td>\n",
       "      <td>0</td>\n",
       "      <td>0</td>\n",
       "      <td>2</td>\n",
       "      <td>8</td>\n",
       "      <td>172</td>\n",
       "      <td>3</td>\n",
       "      <td>1</td>\n",
       "    </tr>\n",
       "  </tbody>\n",
       "</table>\n",
       "</div>"
      ],
      "text/plain": [
       "      fl_matriz  de_natureza_juridica  idade_empresa_anos  fl_me  fl_sa  \\\n",
       "369        True                    17            0.646575  False  False   \n",
       "604       False                    17            6.586301  False  False   \n",
       "1703       True                    17            8.010959  False  False   \n",
       "2521       True                    17           20.863014  False  False   \n",
       "5788       True                    60           18.726027  False  False   \n",
       "\n",
       "      fl_epp  fl_mei  fl_ltda  fl_st_especial  fl_email  fl_telefone  \\\n",
       "369    False    True    False           False     False        False   \n",
       "604    False   False    False           False      True         True   \n",
       "1703   False    True    False           False     False        False   \n",
       "2521   False   False    False           False     False        False   \n",
       "5788   False   False    False           False      True         True   \n",
       "\n",
       "      de_saude_tributaria  de_saude_rescencia  de_nivel_atividade  \\\n",
       "369                     2                   4                   1   \n",
       "604                     4                   0                   2   \n",
       "1703                    1                   0                   2   \n",
       "2521                    4                   0                   0   \n",
       "5788                    4                   0                   0   \n",
       "\n",
       "      de_faixa_faturamento_estimado  de_faixa_faturamento_estimado_grupo  \\\n",
       "369                              10                                   10   \n",
       "604                              10                                    7   \n",
       "1703                              1                                    1   \n",
       "2521                              1                                    1   \n",
       "5788                              2                                    8   \n",
       "\n",
       "      vl_faturamento_estimado_aux  qt_filiais  Clusters  \n",
       "369                            16           0         0  \n",
       "604                            16           4         4  \n",
       "1703                            3           0         3  \n",
       "2521                            3           0         2  \n",
       "5788                          172           3         1  "
      ]
     },
     "execution_count": 78,
     "metadata": {},
     "output_type": "execute_result"
    }
   ],
   "source": [
    "port1_cluster.head()"
   ]
  },
  {
   "cell_type": "code",
   "execution_count": 79,
   "metadata": {},
   "outputs": [
    {
     "data": {
      "text/plain": [
       "<matplotlib.axes._subplots.AxesSubplot at 0x22be4d5e488>"
      ]
     },
     "execution_count": 79,
     "metadata": {},
     "output_type": "execute_result"
    },
    {
     "data": {
      "image/png": "[encoded data removed]",
      "text/plain": [
       "<Figure size 432x288 with 1 Axes>"
      ]
     },
     "metadata": {
      "needs_background": "light"
     },
     "output_type": "display_data"
    }
   ],
   "source": [
    "sns.countplot(port1_cluster.Clusters)"
   ]
  },
  {
   "cell_type": "code",
   "execution_count": 80,
   "metadata": {},
   "outputs": [
    {
     "data": {
      "text/plain": [
       "<matplotlib.axes._subplots.AxesSubplot at 0x22be4db40c8>"
      ]
     },
     "execution_count": 80,
     "metadata": {},
     "output_type": "execute_result"
    },
    {
     "data": {
      "image/png": "[encoded data removed]",
      "text/plain": [
       "<Figure size 432x288 with 1 Axes>"
      ]
     },
     "metadata": {
      "needs_background": "light"
     },
     "output_type": "display_data"
    }
   ],
   "source": [
    "sns.countplot(port2_cluster.Clusters)"
   ]
  },
  {
   "cell_type": "code",
   "execution_count": 81,
   "metadata": {},
   "outputs": [
    {
     "data": {
      "text/plain": [
       "<matplotlib.axes._subplots.AxesSubplot at 0x22be4d40548>"
      ]
     },
     "execution_count": 81,
     "metadata": {},
     "output_type": "execute_result"
    },
    {
     "data": {
      "image/png": "[encoded data removed]",
      "text/plain": [
       "<Figure size 432x288 with 1 Axes>"
      ]
     },
     "metadata": {
      "needs_background": "light"
     },
     "output_type": "display_data"
    }
   ],
   "source": [
    "sns.countplot(port3_cluster.Clusters)"
   ]
  },
  {
   "cell_type": "code",
   "execution_count": null,
   "metadata": {},
   "outputs": [],
   "source": []
  }
 ],
 "metadata": {
  "kernelspec": {
   "display_name": "Python 3",
   "language": "python",
   "name": "python3"
  },
  "language_info": {
   "codemirror_mode": {
    "name": "ipython",
    "version": 3
   },
   "file_extension": ".py",
   "mimetype": "text/x-python",
   "name": "python",
   "nbconvert_exporter": "python",
   "pygments_lexer": "ipython3",
   "version": "3.7.6"
  }
 },
 "nbformat": 4,
 "nbformat_minor": 2
}
